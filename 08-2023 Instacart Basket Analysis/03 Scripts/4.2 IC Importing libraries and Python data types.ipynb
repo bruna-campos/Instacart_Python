{
 "cells": [
  {
   "cell_type": "markdown",
   "id": "1b1c733c",
   "metadata": {},
   "source": [
    "# 01. Importing libraries"
   ]
  },
  {
   "cell_type": "code",
   "execution_count": 1,
   "id": "2be6dd12",
   "metadata": {},
   "outputs": [],
   "source": [
    "# Import libraries\n",
    "import pandas as pd\n",
    "import numpy as np\n",
    "import os"
   ]
  },
  {
   "cell_type": "markdown",
   "id": "6c900644",
   "metadata": {},
   "source": [
    "# 02. Working with Python data types"
   ]
  },
  {
   "cell_type": "code",
   "execution_count": null,
   "id": "884c1c1d",
   "metadata": {},
   "outputs": [],
   "source": [
    "## Integers"
   ]
  },
  {
   "cell_type": "code",
   "execution_count": 10,
   "id": "3ff230f4",
   "metadata": {},
   "outputs": [],
   "source": [
    "x=65\n",
    "y=35"
   ]
  },
  {
   "cell_type": "code",
   "execution_count": 11,
   "id": "c4e341f1",
   "metadata": {},
   "outputs": [
    {
     "name": "stdout",
     "output_type": "stream",
     "text": [
      "100\n"
     ]
    }
   ],
   "source": [
    "print(x+y)"
   ]
  },
  {
   "cell_type": "code",
   "execution_count": 13,
   "id": "9605db12",
   "metadata": {},
   "outputs": [],
   "source": [
    "x=1000\n",
    "y=900"
   ]
  },
  {
   "cell_type": "code",
   "execution_count": 14,
   "id": "2a676d09",
   "metadata": {},
   "outputs": [
    {
     "name": "stdout",
     "output_type": "stream",
     "text": [
      "100\n"
     ]
    }
   ],
   "source": [
    "print(x-y)"
   ]
  },
  {
   "cell_type": "code",
   "execution_count": 27,
   "id": "31024394",
   "metadata": {},
   "outputs": [],
   "source": [
    "x= 60\n",
    "y= 160"
   ]
  },
  {
   "cell_type": "code",
   "execution_count": 28,
   "id": "d57e09d9",
   "metadata": {},
   "outputs": [
    {
     "name": "stdout",
     "output_type": "stream",
     "text": [
      "100\n"
     ]
    }
   ],
   "source": [
    "print(y-x)"
   ]
  },
  {
   "cell_type": "code",
   "execution_count": 31,
   "id": "73bf4292",
   "metadata": {},
   "outputs": [
    {
     "name": "stdout",
     "output_type": "stream",
     "text": [
      "2.3671875\n"
     ]
    }
   ],
   "source": [
    "## Floating-point numbers\n",
    "\n",
    "x = 30.3\n",
    "y = 12.8\n",
    "\n",
    "print(x/y)"
   ]
  },
  {
   "cell_type": "code",
   "execution_count": 34,
   "id": "e02caea5",
   "metadata": {},
   "outputs": [
    {
     "name": "stdout",
     "output_type": "stream",
     "text": [
      "Hi there, Annie!\n"
     ]
    }
   ],
   "source": [
    "## Sentence 1\n",
    "\n",
    "x = 'Hi '\n",
    "y = 'there, '\n",
    "z = 'Annie'\n",
    "w = '!'\n",
    "\n",
    "print(x+y+z+w)"
   ]
  },
  {
   "cell_type": "code",
   "execution_count": 35,
   "id": "d7a57921",
   "metadata": {},
   "outputs": [
    {
     "name": "stdout",
     "output_type": "stream",
     "text": [
      "test\n"
     ]
    }
   ],
   "source": [
    "## Word\n",
    "\n",
    "a = 't'\n",
    "b = 'e'\n",
    "c = 's'\n",
    "\n",
    "print(a+b+c+a)"
   ]
  },
  {
   "cell_type": "code",
   "execution_count": 36,
   "id": "a341a41a",
   "metadata": {},
   "outputs": [
    {
     "name": "stdout",
     "output_type": "stream",
     "text": [
      "Today is the day.\n"
     ]
    }
   ],
   "source": [
    "## Sentence 2\n",
    "\n",
    "a = 'Today '\n",
    "b = 'is '\n",
    "c = 'the '\n",
    "d = 'day.'\n",
    "\n",
    "print(a+b+c+d)\n"
   ]
  },
  {
   "cell_type": "code",
   "execution_count": null,
   "id": "2d99219e",
   "metadata": {},
   "outputs": [],
   "source": []
  }
 ],
 "metadata": {
  "kernelspec": {
   "display_name": "Python 3 (ipykernel)",
   "language": "python",
   "name": "python3"
  },
  "language_info": {
   "codemirror_mode": {
    "name": "ipython",
    "version": 3
   },
   "file_extension": ".py",
   "mimetype": "text/x-python",
   "name": "python",
   "nbconvert_exporter": "python",
   "pygments_lexer": "ipython3",
   "version": "3.11.3"
  }
 },
 "nbformat": 4,
 "nbformat_minor": 5
}
