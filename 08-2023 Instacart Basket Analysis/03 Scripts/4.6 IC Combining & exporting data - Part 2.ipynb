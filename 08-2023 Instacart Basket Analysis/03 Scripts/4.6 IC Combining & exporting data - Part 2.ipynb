{
 "cells": [
  {
   "cell_type": "markdown",
   "id": "8b86328c",
   "metadata": {},
   "source": [
    "## 4.6 Merging and exporting data - Part 2"
   ]
  },
  {
   "cell_type": "markdown",
   "id": "5d3e8a77",
   "metadata": {},
   "source": [
    "### This script contains the following points:\n",
    "\n",
    "#### 1. Merge orders_products combined and df_prods_checked"
   ]
  },
  {
   "cell_type": "markdown",
   "id": "d571e914",
   "metadata": {},
   "source": [
    "### The following dataframes were manipulated/created:\n",
    "\n",
    "#### a) 1 column deleted from 'df_prods' (extra index). Exported as 'prods_checked.csv' (overwritten previous df_prods_checked)\n",
    "#### b) new dataset created: 'orders_products_merged.pkl' (left join of 'orders_products combined' and 'df_prods_checked')"
   ]
  },
  {
   "cell_type": "code",
   "execution_count": 18,
   "id": "062f8e99",
   "metadata": {},
   "outputs": [],
   "source": [
    "# Import librabries\n",
    "\n",
    "import pandas as pd\n",
    "import numpy as np\n",
    "import os"
   ]
  },
  {
   "cell_type": "code",
   "execution_count": 19,
   "id": "20111d9a",
   "metadata": {},
   "outputs": [],
   "source": [
    "# Import dataframes\n",
    "\n",
    "path = r'C:\\Users\\bruna\\Career Foundry\\08-2023 Instacart Basket Analysis'"
   ]
  },
  {
   "cell_type": "code",
   "execution_count": 20,
   "id": "1573057c",
   "metadata": {},
   "outputs": [],
   "source": [
    "df_ords_prods_combined = pd.read_pickle(os.path.join(path, '02 Data', 'Prepared Data', 'orders_products_combined.pkl'))"
   ]
  },
  {
   "cell_type": "code",
   "execution_count": 21,
   "id": "58e296ee",
   "metadata": {},
   "outputs": [
    {
     "data": {
      "text/plain": [
       "(32434489, 11)"
      ]
     },
     "execution_count": 21,
     "metadata": {},
     "output_type": "execute_result"
    }
   ],
   "source": [
    "df_ords_prods_combined.shape"
   ]
  },
  {
   "cell_type": "code",
   "execution_count": 22,
   "id": "1ee7238c",
   "metadata": {},
   "outputs": [],
   "source": [
    "df_prods_checked = pd.read_csv(os.path.join(path, '02 Data', 'Prepared Data', 'prods_checked.csv'), index_col = False)"
   ]
  },
  {
   "cell_type": "code",
   "execution_count": 23,
   "id": "8328805e",
   "metadata": {},
   "outputs": [
    {
     "data": {
      "text/plain": [
       "(49672, 6)"
      ]
     },
     "execution_count": 23,
     "metadata": {},
     "output_type": "execute_result"
    }
   ],
   "source": [
    "df_prods_checked.shape"
   ]
  },
  {
   "cell_type": "code",
   "execution_count": 24,
   "id": "b0b3c0e9",
   "metadata": {},
   "outputs": [
    {
     "data": {
      "text/html": [
       "<div>\n",
       "<style scoped>\n",
       "    .dataframe tbody tr th:only-of-type {\n",
       "        vertical-align: middle;\n",
       "    }\n",
       "\n",
       "    .dataframe tbody tr th {\n",
       "        vertical-align: top;\n",
       "    }\n",
       "\n",
       "    .dataframe thead th {\n",
       "        text-align: right;\n",
       "    }\n",
       "</style>\n",
       "<table border=\"1\" class=\"dataframe\">\n",
       "  <thead>\n",
       "    <tr style=\"text-align: right;\">\n",
       "      <th></th>\n",
       "      <th>order_id</th>\n",
       "      <th>user_id</th>\n",
       "      <th>order_number</th>\n",
       "      <th>orders_day_of_week</th>\n",
       "      <th>time_of_order</th>\n",
       "      <th>days_since_prior_order</th>\n",
       "      <th>first_order_flag</th>\n",
       "      <th>product_id</th>\n",
       "      <th>add_to_cart_order</th>\n",
       "      <th>reordered</th>\n",
       "      <th>_merge</th>\n",
       "    </tr>\n",
       "  </thead>\n",
       "  <tbody>\n",
       "    <tr>\n",
       "      <th>32434484</th>\n",
       "      <td>2977660</td>\n",
       "      <td>206209</td>\n",
       "      <td>13</td>\n",
       "      <td>1</td>\n",
       "      <td>12</td>\n",
       "      <td>7.0</td>\n",
       "      <td>False</td>\n",
       "      <td>14197</td>\n",
       "      <td>5</td>\n",
       "      <td>1</td>\n",
       "      <td>both</td>\n",
       "    </tr>\n",
       "    <tr>\n",
       "      <th>32434485</th>\n",
       "      <td>2977660</td>\n",
       "      <td>206209</td>\n",
       "      <td>13</td>\n",
       "      <td>1</td>\n",
       "      <td>12</td>\n",
       "      <td>7.0</td>\n",
       "      <td>False</td>\n",
       "      <td>38730</td>\n",
       "      <td>6</td>\n",
       "      <td>0</td>\n",
       "      <td>both</td>\n",
       "    </tr>\n",
       "    <tr>\n",
       "      <th>32434486</th>\n",
       "      <td>2977660</td>\n",
       "      <td>206209</td>\n",
       "      <td>13</td>\n",
       "      <td>1</td>\n",
       "      <td>12</td>\n",
       "      <td>7.0</td>\n",
       "      <td>False</td>\n",
       "      <td>31477</td>\n",
       "      <td>7</td>\n",
       "      <td>0</td>\n",
       "      <td>both</td>\n",
       "    </tr>\n",
       "    <tr>\n",
       "      <th>32434487</th>\n",
       "      <td>2977660</td>\n",
       "      <td>206209</td>\n",
       "      <td>13</td>\n",
       "      <td>1</td>\n",
       "      <td>12</td>\n",
       "      <td>7.0</td>\n",
       "      <td>False</td>\n",
       "      <td>6567</td>\n",
       "      <td>8</td>\n",
       "      <td>0</td>\n",
       "      <td>both</td>\n",
       "    </tr>\n",
       "    <tr>\n",
       "      <th>32434488</th>\n",
       "      <td>2977660</td>\n",
       "      <td>206209</td>\n",
       "      <td>13</td>\n",
       "      <td>1</td>\n",
       "      <td>12</td>\n",
       "      <td>7.0</td>\n",
       "      <td>False</td>\n",
       "      <td>22920</td>\n",
       "      <td>9</td>\n",
       "      <td>0</td>\n",
       "      <td>both</td>\n",
       "    </tr>\n",
       "  </tbody>\n",
       "</table>\n",
       "</div>"
      ],
      "text/plain": [
       "          order_id  user_id  order_number  orders_day_of_week  time_of_order  \\\n",
       "32434484   2977660   206209            13                   1             12   \n",
       "32434485   2977660   206209            13                   1             12   \n",
       "32434486   2977660   206209            13                   1             12   \n",
       "32434487   2977660   206209            13                   1             12   \n",
       "32434488   2977660   206209            13                   1             12   \n",
       "\n",
       "          days_since_prior_order  first_order_flag  product_id  \\\n",
       "32434484                     7.0             False       14197   \n",
       "32434485                     7.0             False       38730   \n",
       "32434486                     7.0             False       31477   \n",
       "32434487                     7.0             False        6567   \n",
       "32434488                     7.0             False       22920   \n",
       "\n",
       "          add_to_cart_order  reordered _merge  \n",
       "32434484                  5          1   both  \n",
       "32434485                  6          0   both  \n",
       "32434486                  7          0   both  \n",
       "32434487                  8          0   both  \n",
       "32434488                  9          0   both  "
      ]
     },
     "execution_count": 24,
     "metadata": {},
     "output_type": "execute_result"
    }
   ],
   "source": [
    "# Visualising dataframes\n",
    "df_ords_prods_combined.tail()"
   ]
  },
  {
   "cell_type": "code",
   "execution_count": 25,
   "id": "2e3af60f",
   "metadata": {},
   "outputs": [
    {
     "data": {
      "text/html": [
       "<div>\n",
       "<style scoped>\n",
       "    .dataframe tbody tr th:only-of-type {\n",
       "        vertical-align: middle;\n",
       "    }\n",
       "\n",
       "    .dataframe tbody tr th {\n",
       "        vertical-align: top;\n",
       "    }\n",
       "\n",
       "    .dataframe thead th {\n",
       "        text-align: right;\n",
       "    }\n",
       "</style>\n",
       "<table border=\"1\" class=\"dataframe\">\n",
       "  <thead>\n",
       "    <tr style=\"text-align: right;\">\n",
       "      <th></th>\n",
       "      <th>Unnamed: 0</th>\n",
       "      <th>product_id</th>\n",
       "      <th>product_name</th>\n",
       "      <th>aisle_id</th>\n",
       "      <th>department_id</th>\n",
       "      <th>prices</th>\n",
       "    </tr>\n",
       "  </thead>\n",
       "  <tbody>\n",
       "    <tr>\n",
       "      <th>49667</th>\n",
       "      <td>49688</td>\n",
       "      <td>49684</td>\n",
       "      <td>Vodka, Triple Distilled, Twist of Vanilla</td>\n",
       "      <td>124</td>\n",
       "      <td>5</td>\n",
       "      <td>5.3</td>\n",
       "    </tr>\n",
       "    <tr>\n",
       "      <th>49668</th>\n",
       "      <td>49689</td>\n",
       "      <td>49685</td>\n",
       "      <td>En Croute Roast Hazelnut Cranberry</td>\n",
       "      <td>42</td>\n",
       "      <td>1</td>\n",
       "      <td>3.1</td>\n",
       "    </tr>\n",
       "    <tr>\n",
       "      <th>49669</th>\n",
       "      <td>49690</td>\n",
       "      <td>49686</td>\n",
       "      <td>Artisan Baguette</td>\n",
       "      <td>112</td>\n",
       "      <td>3</td>\n",
       "      <td>7.8</td>\n",
       "    </tr>\n",
       "    <tr>\n",
       "      <th>49670</th>\n",
       "      <td>49691</td>\n",
       "      <td>49687</td>\n",
       "      <td>Smartblend Healthy Metabolism Dry Cat Food</td>\n",
       "      <td>41</td>\n",
       "      <td>8</td>\n",
       "      <td>4.7</td>\n",
       "    </tr>\n",
       "    <tr>\n",
       "      <th>49671</th>\n",
       "      <td>49692</td>\n",
       "      <td>49688</td>\n",
       "      <td>Fresh Foaming Cleanser</td>\n",
       "      <td>73</td>\n",
       "      <td>11</td>\n",
       "      <td>13.5</td>\n",
       "    </tr>\n",
       "  </tbody>\n",
       "</table>\n",
       "</div>"
      ],
      "text/plain": [
       "       Unnamed: 0  product_id                                product_name  \\\n",
       "49667       49688       49684   Vodka, Triple Distilled, Twist of Vanilla   \n",
       "49668       49689       49685          En Croute Roast Hazelnut Cranberry   \n",
       "49669       49690       49686                            Artisan Baguette   \n",
       "49670       49691       49687  Smartblend Healthy Metabolism Dry Cat Food   \n",
       "49671       49692       49688                      Fresh Foaming Cleanser   \n",
       "\n",
       "       aisle_id  department_id  prices  \n",
       "49667       124              5     5.3  \n",
       "49668        42              1     3.1  \n",
       "49669       112              3     7.8  \n",
       "49670        41              8     4.7  \n",
       "49671        73             11    13.5  "
      ]
     },
     "execution_count": 25,
     "metadata": {},
     "output_type": "execute_result"
    }
   ],
   "source": [
    "df_prods_checked.tail()"
   ]
  },
  {
   "cell_type": "code",
   "execution_count": 26,
   "id": "f7c2c0f8",
   "metadata": {},
   "outputs": [],
   "source": [
    "\n",
    "# Dropping unnecessary columns in df_prods_checked\n",
    "\n",
    "df_prods_checked = df_prods_checked.drop(columns=['Unnamed: 0'])"
   ]
  },
  {
   "cell_type": "code",
   "execution_count": 27,
   "id": "0a209974",
   "metadata": {},
   "outputs": [
    {
     "data": {
      "text/html": [
       "<div>\n",
       "<style scoped>\n",
       "    .dataframe tbody tr th:only-of-type {\n",
       "        vertical-align: middle;\n",
       "    }\n",
       "\n",
       "    .dataframe tbody tr th {\n",
       "        vertical-align: top;\n",
       "    }\n",
       "\n",
       "    .dataframe thead th {\n",
       "        text-align: right;\n",
       "    }\n",
       "</style>\n",
       "<table border=\"1\" class=\"dataframe\">\n",
       "  <thead>\n",
       "    <tr style=\"text-align: right;\">\n",
       "      <th></th>\n",
       "      <th>product_id</th>\n",
       "      <th>product_name</th>\n",
       "      <th>aisle_id</th>\n",
       "      <th>department_id</th>\n",
       "      <th>prices</th>\n",
       "    </tr>\n",
       "  </thead>\n",
       "  <tbody>\n",
       "    <tr>\n",
       "      <th>49667</th>\n",
       "      <td>49684</td>\n",
       "      <td>Vodka, Triple Distilled, Twist of Vanilla</td>\n",
       "      <td>124</td>\n",
       "      <td>5</td>\n",
       "      <td>5.3</td>\n",
       "    </tr>\n",
       "    <tr>\n",
       "      <th>49668</th>\n",
       "      <td>49685</td>\n",
       "      <td>En Croute Roast Hazelnut Cranberry</td>\n",
       "      <td>42</td>\n",
       "      <td>1</td>\n",
       "      <td>3.1</td>\n",
       "    </tr>\n",
       "    <tr>\n",
       "      <th>49669</th>\n",
       "      <td>49686</td>\n",
       "      <td>Artisan Baguette</td>\n",
       "      <td>112</td>\n",
       "      <td>3</td>\n",
       "      <td>7.8</td>\n",
       "    </tr>\n",
       "    <tr>\n",
       "      <th>49670</th>\n",
       "      <td>49687</td>\n",
       "      <td>Smartblend Healthy Metabolism Dry Cat Food</td>\n",
       "      <td>41</td>\n",
       "      <td>8</td>\n",
       "      <td>4.7</td>\n",
       "    </tr>\n",
       "    <tr>\n",
       "      <th>49671</th>\n",
       "      <td>49688</td>\n",
       "      <td>Fresh Foaming Cleanser</td>\n",
       "      <td>73</td>\n",
       "      <td>11</td>\n",
       "      <td>13.5</td>\n",
       "    </tr>\n",
       "  </tbody>\n",
       "</table>\n",
       "</div>"
      ],
      "text/plain": [
       "       product_id                                product_name  aisle_id  \\\n",
       "49667       49684   Vodka, Triple Distilled, Twist of Vanilla       124   \n",
       "49668       49685          En Croute Roast Hazelnut Cranberry        42   \n",
       "49669       49686                            Artisan Baguette       112   \n",
       "49670       49687  Smartblend Healthy Metabolism Dry Cat Food        41   \n",
       "49671       49688                      Fresh Foaming Cleanser        73   \n",
       "\n",
       "       department_id  prices  \n",
       "49667              5     5.3  \n",
       "49668              1     3.1  \n",
       "49669              3     7.8  \n",
       "49670              8     4.7  \n",
       "49671             11    13.5  "
      ]
     },
     "execution_count": 27,
     "metadata": {},
     "output_type": "execute_result"
    }
   ],
   "source": [
    "df_prods_checked.tail()"
   ]
  },
  {
   "cell_type": "markdown",
   "id": "10ce479f",
   "metadata": {},
   "source": [
    "\n",
    "## 1. Merge df_ords and df_ords_prior"
   ]
  },
  {
   "cell_type": "code",
   "execution_count": 28,
   "id": "560115b5",
   "metadata": {},
   "outputs": [],
   "source": [
    "# Double-check merge rates using an outer join\n",
    "    \n",
    "df_ords_prods_merged = df_ords_prods_combined.merge(df_prods_checked, on = 'product_id', how = 'outer', indicator='exists')"
   ]
  },
  {
   "cell_type": "code",
   "execution_count": 29,
   "id": "bdbd8224",
   "metadata": {},
   "outputs": [
    {
     "data": {
      "text/html": [
       "<div>\n",
       "<style scoped>\n",
       "    .dataframe tbody tr th:only-of-type {\n",
       "        vertical-align: middle;\n",
       "    }\n",
       "\n",
       "    .dataframe tbody tr th {\n",
       "        vertical-align: top;\n",
       "    }\n",
       "\n",
       "    .dataframe thead th {\n",
       "        text-align: right;\n",
       "    }\n",
       "</style>\n",
       "<table border=\"1\" class=\"dataframe\">\n",
       "  <thead>\n",
       "    <tr style=\"text-align: right;\">\n",
       "      <th></th>\n",
       "      <th>order_id</th>\n",
       "      <th>user_id</th>\n",
       "      <th>order_number</th>\n",
       "      <th>orders_day_of_week</th>\n",
       "      <th>time_of_order</th>\n",
       "      <th>days_since_prior_order</th>\n",
       "      <th>first_order_flag</th>\n",
       "      <th>product_id</th>\n",
       "      <th>add_to_cart_order</th>\n",
       "      <th>reordered</th>\n",
       "      <th>_merge</th>\n",
       "      <th>product_name</th>\n",
       "      <th>aisle_id</th>\n",
       "      <th>department_id</th>\n",
       "      <th>prices</th>\n",
       "      <th>exists</th>\n",
       "    </tr>\n",
       "  </thead>\n",
       "  <tbody>\n",
       "    <tr>\n",
       "      <th>32435065</th>\n",
       "      <td>NaN</td>\n",
       "      <td>NaN</td>\n",
       "      <td>NaN</td>\n",
       "      <td>NaN</td>\n",
       "      <td>NaN</td>\n",
       "      <td>NaN</td>\n",
       "      <td>NaN</td>\n",
       "      <td>37703</td>\n",
       "      <td>NaN</td>\n",
       "      <td>NaN</td>\n",
       "      <td>NaN</td>\n",
       "      <td>Ultra Sun Blossom Liquid 90 loads Fabric Enhan...</td>\n",
       "      <td>75.0</td>\n",
       "      <td>17.0</td>\n",
       "      <td>14.3</td>\n",
       "      <td>right_only</td>\n",
       "    </tr>\n",
       "    <tr>\n",
       "      <th>32435066</th>\n",
       "      <td>NaN</td>\n",
       "      <td>NaN</td>\n",
       "      <td>NaN</td>\n",
       "      <td>NaN</td>\n",
       "      <td>NaN</td>\n",
       "      <td>NaN</td>\n",
       "      <td>NaN</td>\n",
       "      <td>43725</td>\n",
       "      <td>NaN</td>\n",
       "      <td>NaN</td>\n",
       "      <td>NaN</td>\n",
       "      <td>Sweetart Jelly Beans</td>\n",
       "      <td>100.0</td>\n",
       "      <td>21.0</td>\n",
       "      <td>8.1</td>\n",
       "      <td>right_only</td>\n",
       "    </tr>\n",
       "    <tr>\n",
       "      <th>32435067</th>\n",
       "      <td>NaN</td>\n",
       "      <td>NaN</td>\n",
       "      <td>NaN</td>\n",
       "      <td>NaN</td>\n",
       "      <td>NaN</td>\n",
       "      <td>NaN</td>\n",
       "      <td>NaN</td>\n",
       "      <td>45971</td>\n",
       "      <td>NaN</td>\n",
       "      <td>NaN</td>\n",
       "      <td>NaN</td>\n",
       "      <td>12 Inch Taper Candle White</td>\n",
       "      <td>101.0</td>\n",
       "      <td>17.0</td>\n",
       "      <td>9.8</td>\n",
       "      <td>right_only</td>\n",
       "    </tr>\n",
       "    <tr>\n",
       "      <th>32435068</th>\n",
       "      <td>NaN</td>\n",
       "      <td>NaN</td>\n",
       "      <td>NaN</td>\n",
       "      <td>NaN</td>\n",
       "      <td>NaN</td>\n",
       "      <td>NaN</td>\n",
       "      <td>NaN</td>\n",
       "      <td>46625</td>\n",
       "      <td>NaN</td>\n",
       "      <td>NaN</td>\n",
       "      <td>NaN</td>\n",
       "      <td>Single Barrel Kentucky Straight Bourbon Whiskey</td>\n",
       "      <td>31.0</td>\n",
       "      <td>7.0</td>\n",
       "      <td>1.7</td>\n",
       "      <td>right_only</td>\n",
       "    </tr>\n",
       "    <tr>\n",
       "      <th>32435069</th>\n",
       "      <td>NaN</td>\n",
       "      <td>NaN</td>\n",
       "      <td>NaN</td>\n",
       "      <td>NaN</td>\n",
       "      <td>NaN</td>\n",
       "      <td>NaN</td>\n",
       "      <td>NaN</td>\n",
       "      <td>49540</td>\n",
       "      <td>NaN</td>\n",
       "      <td>NaN</td>\n",
       "      <td>NaN</td>\n",
       "      <td>Pure Squeezed  Lemonade</td>\n",
       "      <td>31.0</td>\n",
       "      <td>7.0</td>\n",
       "      <td>9.1</td>\n",
       "      <td>right_only</td>\n",
       "    </tr>\n",
       "  </tbody>\n",
       "</table>\n",
       "</div>"
      ],
      "text/plain": [
       "          order_id  user_id  order_number  orders_day_of_week  time_of_order  \\\n",
       "32435065       NaN      NaN           NaN                 NaN            NaN   \n",
       "32435066       NaN      NaN           NaN                 NaN            NaN   \n",
       "32435067       NaN      NaN           NaN                 NaN            NaN   \n",
       "32435068       NaN      NaN           NaN                 NaN            NaN   \n",
       "32435069       NaN      NaN           NaN                 NaN            NaN   \n",
       "\n",
       "          days_since_prior_order first_order_flag  product_id  \\\n",
       "32435065                     NaN              NaN       37703   \n",
       "32435066                     NaN              NaN       43725   \n",
       "32435067                     NaN              NaN       45971   \n",
       "32435068                     NaN              NaN       46625   \n",
       "32435069                     NaN              NaN       49540   \n",
       "\n",
       "          add_to_cart_order  reordered _merge  \\\n",
       "32435065                NaN        NaN    NaN   \n",
       "32435066                NaN        NaN    NaN   \n",
       "32435067                NaN        NaN    NaN   \n",
       "32435068                NaN        NaN    NaN   \n",
       "32435069                NaN        NaN    NaN   \n",
       "\n",
       "                                               product_name  aisle_id  \\\n",
       "32435065  Ultra Sun Blossom Liquid 90 loads Fabric Enhan...      75.0   \n",
       "32435066                               Sweetart Jelly Beans     100.0   \n",
       "32435067                         12 Inch Taper Candle White     101.0   \n",
       "32435068    Single Barrel Kentucky Straight Bourbon Whiskey      31.0   \n",
       "32435069                            Pure Squeezed  Lemonade      31.0   \n",
       "\n",
       "          department_id  prices      exists  \n",
       "32435065           17.0    14.3  right_only  \n",
       "32435066           21.0     8.1  right_only  \n",
       "32435067           17.0     9.8  right_only  \n",
       "32435068            7.0     1.7  right_only  \n",
       "32435069            7.0     9.1  right_only  "
      ]
     },
     "execution_count": 29,
     "metadata": {},
     "output_type": "execute_result"
    }
   ],
   "source": [
    "df_ords_prods_merged.tail()"
   ]
  },
  {
   "cell_type": "code",
   "execution_count": 30,
   "id": "fab693a1",
   "metadata": {},
   "outputs": [
    {
     "data": {
      "text/plain": [
       "both          32404859\n",
       "left_only        30200\n",
       "right_only          11\n",
       "Name: exists, dtype: int64"
      ]
     },
     "execution_count": 30,
     "metadata": {},
     "output_type": "execute_result"
    }
   ],
   "source": [
    "df_ords_prods_merged['exists'].value_counts()"
   ]
  },
  {
   "cell_type": "code",
   "execution_count": 31,
   "id": "ddb4f4bf",
   "metadata": {},
   "outputs": [
    {
     "data": {
      "text/plain": [
       "(32435070, 16)"
      ]
     },
     "execution_count": 31,
     "metadata": {},
     "output_type": "execute_result"
    }
   ],
   "source": [
    "df_ords_prods_merged.shape"
   ]
  },
  {
   "cell_type": "code",
   "execution_count": 32,
   "id": "a24ecd19",
   "metadata": {},
   "outputs": [
    {
     "name": "stdout",
     "output_type": "stream",
     "text": [
      "           order_id   user_id  order_number  orders_day_of_week  \\\n",
      "12039117     7099.0      27.0          63.0                 3.0   \n",
      "12039118  1837192.0      27.0          80.0                 2.0   \n",
      "12039119  2915432.0     298.0           1.0                 4.0   \n",
      "12039120   613874.0     298.0           3.0                 1.0   \n",
      "12039121   690386.0     479.0           1.0                 3.0   \n",
      "...             ...       ...           ...                 ...   \n",
      "32413293  1514902.0  179816.0           4.0                 5.0   \n",
      "32413294  3287190.0  179816.0           5.0                 6.0   \n",
      "32413295  2943026.0  179816.0           8.0                 0.0   \n",
      "32413296  2108832.0  179816.0          15.0                 2.0   \n",
      "32413297  1077336.0  202849.0          52.0                 1.0   \n",
      "\n",
      "          time_of_order  days_since_prior_order first_order_flag  product_id  \\\n",
      "12039117           10.0                     1.0            False        6799   \n",
      "12039118            8.0                     6.0            False        6799   \n",
      "12039119           14.0                     NaN             True        6799   \n",
      "12039120           12.0                    14.0            False        6799   \n",
      "12039121           17.0                     NaN             True        6799   \n",
      "...                 ...                     ...              ...         ...   \n",
      "32413293           20.0                     5.0            False          69   \n",
      "32413294           13.0                     8.0            False          69   \n",
      "32413295           15.0                    10.0            False          69   \n",
      "32413296           13.0                     6.0            False          69   \n",
      "32413297           11.0                     5.0            False          69   \n",
      "\n",
      "          add_to_cart_order  reordered _merge product_name  aisle_id  \\\n",
      "12039117                1.0        0.0   both          NaN       NaN   \n",
      "12039118                9.0        1.0   both          NaN       NaN   \n",
      "12039119                2.0        0.0   both          NaN       NaN   \n",
      "12039120                2.0        1.0   both          NaN       NaN   \n",
      "12039121                7.0        0.0   both          NaN       NaN   \n",
      "...                     ...        ...    ...          ...       ...   \n",
      "32413293               11.0        1.0   both          NaN       NaN   \n",
      "32413294                4.0        1.0   both          NaN       NaN   \n",
      "32413295               14.0        1.0   both          NaN       NaN   \n",
      "32413296               12.0        1.0   both          NaN       NaN   \n",
      "32413297               27.0        0.0   both          NaN       NaN   \n",
      "\n",
      "          department_id  prices     exists  \n",
      "12039117            NaN     NaN  left_only  \n",
      "12039118            NaN     NaN  left_only  \n",
      "12039119            NaN     NaN  left_only  \n",
      "12039120            NaN     NaN  left_only  \n",
      "12039121            NaN     NaN  left_only  \n",
      "...                 ...     ...        ...  \n",
      "32413293            NaN     NaN  left_only  \n",
      "32413294            NaN     NaN  left_only  \n",
      "32413295            NaN     NaN  left_only  \n",
      "32413296            NaN     NaN  left_only  \n",
      "32413297            NaN     NaN  left_only  \n",
      "\n",
      "[30200 rows x 16 columns]\n"
     ]
    }
   ],
   "source": [
    "#Visualising left only\n",
    "print(df_ords_prods_merged[df_ords_prods_merged['exists'].str.contains('left')])\n"
   ]
  },
  {
   "cell_type": "code",
   "execution_count": 33,
   "id": "be35ca57",
   "metadata": {},
   "outputs": [],
   "source": [
    "# Checking for duplicates in 'product_in'\n",
    "\n",
    "duplicates_all_occurences = df_prods_checked['product_id'].duplicated(keep=False)"
   ]
  },
  {
   "cell_type": "code",
   "execution_count": 34,
   "id": "54e935b3",
   "metadata": {},
   "outputs": [
    {
     "name": "stdout",
     "output_type": "stream",
     "text": [
      "       product_id                                       product_name  \\\n",
      "6784         6800                          Revive Zero Vitamin Water   \n",
      "6785         6800                 Sprouted Quinoa Flakes Baby Cereal   \n",
      "26504       26520  Clinical Advanced Solid Ultimate Fresh Anti-Pe...   \n",
      "26505       26520       Cheese Shredded Sharp Cheddar Reduced Fat 2%   \n",
      "\n",
      "       aisle_id  department_id  prices  \n",
      "6784         64              7     6.4  \n",
      "6785         92             18    14.0  \n",
      "26504        80             11    10.6  \n",
      "26505        21             16     2.9  \n"
     ]
    }
   ],
   "source": [
    "print(df_prods_checked[duplicates_all_occurences])"
   ]
  },
  {
   "cell_type": "code",
   "execution_count": 35,
   "id": "ec4ceeab",
   "metadata": {},
   "outputs": [],
   "source": [
    "# keeping these for now as I don't have access to the correct product_id and it's a very small % of rows with this issue"
   ]
  },
  {
   "cell_type": "code",
   "execution_count": 36,
   "id": "cbd2f537",
   "metadata": {},
   "outputs": [],
   "source": [
    "\n",
    "# Doing an inner join instead \n",
    "df_ords_prods_merged = df_ords_prods_combined.merge(df_prods_checked, on = 'product_id', indicator='exists')"
   ]
  },
  {
   "cell_type": "code",
   "execution_count": 37,
   "id": "6fe336d5",
   "metadata": {},
   "outputs": [
    {
     "data": {
      "text/plain": [
       "both          32404859\n",
       "left_only            0\n",
       "right_only           0\n",
       "Name: exists, dtype: int64"
      ]
     },
     "execution_count": 37,
     "metadata": {},
     "output_type": "execute_result"
    }
   ],
   "source": [
    "df_ords_prods_merged['exists'].value_counts()"
   ]
  },
  {
   "cell_type": "code",
   "execution_count": 38,
   "id": "6d84cdd4",
   "metadata": {},
   "outputs": [
    {
     "data": {
      "text/plain": [
       "(32404859, 16)"
      ]
     },
     "execution_count": 38,
     "metadata": {},
     "output_type": "execute_result"
    }
   ],
   "source": [
    "df_ords_prods_merged.shape"
   ]
  },
  {
   "cell_type": "code",
   "execution_count": 39,
   "id": "a19af5da",
   "metadata": {},
   "outputs": [
    {
     "data": {
      "text/html": [
       "<div>\n",
       "<style scoped>\n",
       "    .dataframe tbody tr th:only-of-type {\n",
       "        vertical-align: middle;\n",
       "    }\n",
       "\n",
       "    .dataframe tbody tr th {\n",
       "        vertical-align: top;\n",
       "    }\n",
       "\n",
       "    .dataframe thead th {\n",
       "        text-align: right;\n",
       "    }\n",
       "</style>\n",
       "<table border=\"1\" class=\"dataframe\">\n",
       "  <thead>\n",
       "    <tr style=\"text-align: right;\">\n",
       "      <th></th>\n",
       "      <th>order_id</th>\n",
       "      <th>user_id</th>\n",
       "      <th>order_number</th>\n",
       "      <th>orders_day_of_week</th>\n",
       "      <th>time_of_order</th>\n",
       "      <th>days_since_prior_order</th>\n",
       "      <th>first_order_flag</th>\n",
       "      <th>product_id</th>\n",
       "      <th>add_to_cart_order</th>\n",
       "      <th>reordered</th>\n",
       "      <th>_merge</th>\n",
       "      <th>product_name</th>\n",
       "      <th>aisle_id</th>\n",
       "      <th>department_id</th>\n",
       "      <th>prices</th>\n",
       "      <th>exists</th>\n",
       "    </tr>\n",
       "  </thead>\n",
       "  <tbody>\n",
       "    <tr>\n",
       "      <th>32404854</th>\n",
       "      <td>1320836</td>\n",
       "      <td>202557</td>\n",
       "      <td>17</td>\n",
       "      <td>2</td>\n",
       "      <td>15</td>\n",
       "      <td>1.0</td>\n",
       "      <td>False</td>\n",
       "      <td>43553</td>\n",
       "      <td>2</td>\n",
       "      <td>1</td>\n",
       "      <td>both</td>\n",
       "      <td>Orange Energy Shots</td>\n",
       "      <td>64</td>\n",
       "      <td>7</td>\n",
       "      <td>3.7</td>\n",
       "      <td>both</td>\n",
       "    </tr>\n",
       "    <tr>\n",
       "      <th>32404855</th>\n",
       "      <td>31526</td>\n",
       "      <td>202557</td>\n",
       "      <td>18</td>\n",
       "      <td>5</td>\n",
       "      <td>11</td>\n",
       "      <td>3.0</td>\n",
       "      <td>False</td>\n",
       "      <td>43553</td>\n",
       "      <td>2</td>\n",
       "      <td>1</td>\n",
       "      <td>both</td>\n",
       "      <td>Orange Energy Shots</td>\n",
       "      <td>64</td>\n",
       "      <td>7</td>\n",
       "      <td>3.7</td>\n",
       "      <td>both</td>\n",
       "    </tr>\n",
       "    <tr>\n",
       "      <th>32404856</th>\n",
       "      <td>758936</td>\n",
       "      <td>203436</td>\n",
       "      <td>1</td>\n",
       "      <td>2</td>\n",
       "      <td>7</td>\n",
       "      <td>NaN</td>\n",
       "      <td>True</td>\n",
       "      <td>42338</td>\n",
       "      <td>4</td>\n",
       "      <td>0</td>\n",
       "      <td>both</td>\n",
       "      <td>Zucchini Chips, Pesto</td>\n",
       "      <td>50</td>\n",
       "      <td>19</td>\n",
       "      <td>6.9</td>\n",
       "      <td>both</td>\n",
       "    </tr>\n",
       "    <tr>\n",
       "      <th>32404857</th>\n",
       "      <td>2745165</td>\n",
       "      <td>203436</td>\n",
       "      <td>2</td>\n",
       "      <td>3</td>\n",
       "      <td>5</td>\n",
       "      <td>15.0</td>\n",
       "      <td>False</td>\n",
       "      <td>42338</td>\n",
       "      <td>16</td>\n",
       "      <td>1</td>\n",
       "      <td>both</td>\n",
       "      <td>Zucchini Chips, Pesto</td>\n",
       "      <td>50</td>\n",
       "      <td>19</td>\n",
       "      <td>6.9</td>\n",
       "      <td>both</td>\n",
       "    </tr>\n",
       "    <tr>\n",
       "      <th>32404858</th>\n",
       "      <td>3093936</td>\n",
       "      <td>205420</td>\n",
       "      <td>1</td>\n",
       "      <td>4</td>\n",
       "      <td>14</td>\n",
       "      <td>NaN</td>\n",
       "      <td>True</td>\n",
       "      <td>28818</td>\n",
       "      <td>8</td>\n",
       "      <td>0</td>\n",
       "      <td>both</td>\n",
       "      <td>Hot Oatmeal Multigrain Raisin</td>\n",
       "      <td>130</td>\n",
       "      <td>14</td>\n",
       "      <td>10.3</td>\n",
       "      <td>both</td>\n",
       "    </tr>\n",
       "  </tbody>\n",
       "</table>\n",
       "</div>"
      ],
      "text/plain": [
       "          order_id  user_id  order_number  orders_day_of_week  time_of_order  \\\n",
       "32404854   1320836   202557            17                   2             15   \n",
       "32404855     31526   202557            18                   5             11   \n",
       "32404856    758936   203436             1                   2              7   \n",
       "32404857   2745165   203436             2                   3              5   \n",
       "32404858   3093936   205420             1                   4             14   \n",
       "\n",
       "          days_since_prior_order  first_order_flag  product_id  \\\n",
       "32404854                     1.0             False       43553   \n",
       "32404855                     3.0             False       43553   \n",
       "32404856                     NaN              True       42338   \n",
       "32404857                    15.0             False       42338   \n",
       "32404858                     NaN              True       28818   \n",
       "\n",
       "          add_to_cart_order  reordered _merge                   product_name  \\\n",
       "32404854                  2          1   both            Orange Energy Shots   \n",
       "32404855                  2          1   both            Orange Energy Shots   \n",
       "32404856                  4          0   both          Zucchini Chips, Pesto   \n",
       "32404857                 16          1   both          Zucchini Chips, Pesto   \n",
       "32404858                  8          0   both  Hot Oatmeal Multigrain Raisin   \n",
       "\n",
       "          aisle_id  department_id  prices exists  \n",
       "32404854        64              7     3.7   both  \n",
       "32404855        64              7     3.7   both  \n",
       "32404856        50             19     6.9   both  \n",
       "32404857        50             19     6.9   both  \n",
       "32404858       130             14    10.3   both  "
      ]
     },
     "execution_count": 39,
     "metadata": {},
     "output_type": "execute_result"
    }
   ],
   "source": [
    "df_ords_prods_merged.tail()"
   ]
  },
  {
   "cell_type": "markdown",
   "id": "11843c35",
   "metadata": {},
   "source": [
    "## 2. Exporting Dataframes"
   ]
  },
  {
   "cell_type": "code",
   "execution_count": 40,
   "id": "0aad1650",
   "metadata": {},
   "outputs": [],
   "source": [
    "# Exporting 'orders_products_merged.pkl'\n",
    "\n",
    "df_ords_prods_merged.to_pickle(os.path.join(path, '02 Data', 'Prepared Data', 'orders_products_merged.pkl'))"
   ]
  },
  {
   "cell_type": "code",
   "execution_count": null,
   "id": "a54b270f",
   "metadata": {},
   "outputs": [],
   "source": []
  }
 ],
 "metadata": {
  "kernelspec": {
   "display_name": "Python 3 (ipykernel)",
   "language": "python",
   "name": "python3"
  },
  "language_info": {
   "codemirror_mode": {
    "name": "ipython",
    "version": 3
   },
   "file_extension": ".py",
   "mimetype": "text/x-python",
   "name": "python",
   "nbconvert_exporter": "python",
   "pygments_lexer": "ipython3",
   "version": "3.11.3"
  }
 },
 "nbformat": 4,
 "nbformat_minor": 5
}
