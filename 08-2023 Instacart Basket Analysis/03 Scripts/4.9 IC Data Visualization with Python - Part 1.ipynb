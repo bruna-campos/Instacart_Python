{
 "cells": [
  {
   "cell_type": "markdown",
   "id": "44c45b73",
   "metadata": {},
   "source": [
    "# 4.9 Intro to Data Visualization with Python - Part 1\n",
    "\n",
    "### This script contains the following points:\n",
    "1. Importing libraries and dataframes\n",
    "2. Data wrangling of 'Customers' dataframe\n",
    "3. Combining 'customers' and 'ords_prods' dataframes\n",
    "4. Exporting Dataframe\n",
    "\n",
    "### The following dataframes were manipulated/created:\n",
    "   a) 'customers' dataframe: columns 'First Name' and 'Surnam' deleted; several columns renamed for simplicity;\n",
    "    b). 'ords_prods_all' created by merge of 'customers' and 'ords_prods_analysis_2'\n",
    "\n"
   ]
  },
  {
   "cell_type": "markdown",
   "id": "20714c36",
   "metadata": {},
   "source": [
    "#\n",
    "\n",
    "\n",
    "## 1. Importing libraries and dataframes"
   ]
  },
  {
   "cell_type": "code",
   "execution_count": 1,
   "id": "8ba82991",
   "metadata": {},
   "outputs": [],
   "source": [
    "# Importing libraries and dataframe\n",
    "import pandas as pd\n",
    "import numpy as np\n",
    "import os"
   ]
  },
  {
   "cell_type": "code",
   "execution_count": 2,
   "id": "113b3b83",
   "metadata": {},
   "outputs": [],
   "source": [
    "path = r'C:\\Users\\bruna\\Career Foundry\\08-2023 Instacart Basket Analysis'\n",
    "\n",
    "customers = pd.read_csv(os.path.join(path, '02 Data', 'Original Data', 'customers.csv'))\n",
    "ords_prods = pd.read_pickle(os.path.join(path, '02 Data', 'Prepared Data', 'orders_products_analysis_2.pkl'))"
   ]
  },
  {
   "cell_type": "markdown",
   "id": "d7e3da48",
   "metadata": {},
   "source": [
    "## 2. Data wrangling of 'Customers' dataframe"
   ]
  },
  {
   "cell_type": "code",
   "execution_count": 3,
   "id": "caedf7f8",
   "metadata": {},
   "outputs": [
    {
     "data": {
      "text/html": [
       "<div>\n",
       "<style scoped>\n",
       "    .dataframe tbody tr th:only-of-type {\n",
       "        vertical-align: middle;\n",
       "    }\n",
       "\n",
       "    .dataframe tbody tr th {\n",
       "        vertical-align: top;\n",
       "    }\n",
       "\n",
       "    .dataframe thead th {\n",
       "        text-align: right;\n",
       "    }\n",
       "</style>\n",
       "<table border=\"1\" class=\"dataframe\">\n",
       "  <thead>\n",
       "    <tr style=\"text-align: right;\">\n",
       "      <th></th>\n",
       "      <th>user_id</th>\n",
       "      <th>First Name</th>\n",
       "      <th>Surnam</th>\n",
       "      <th>Gender</th>\n",
       "      <th>STATE</th>\n",
       "      <th>Age</th>\n",
       "      <th>date_joined</th>\n",
       "      <th>n_dependants</th>\n",
       "      <th>fam_status</th>\n",
       "      <th>income</th>\n",
       "    </tr>\n",
       "  </thead>\n",
       "  <tbody>\n",
       "    <tr>\n",
       "      <th>0</th>\n",
       "      <td>26711</td>\n",
       "      <td>Deborah</td>\n",
       "      <td>Esquivel</td>\n",
       "      <td>Female</td>\n",
       "      <td>Missouri</td>\n",
       "      <td>48</td>\n",
       "      <td>1/1/2017</td>\n",
       "      <td>3</td>\n",
       "      <td>married</td>\n",
       "      <td>165665</td>\n",
       "    </tr>\n",
       "    <tr>\n",
       "      <th>1</th>\n",
       "      <td>33890</td>\n",
       "      <td>Patricia</td>\n",
       "      <td>Hart</td>\n",
       "      <td>Female</td>\n",
       "      <td>New Mexico</td>\n",
       "      <td>36</td>\n",
       "      <td>1/1/2017</td>\n",
       "      <td>0</td>\n",
       "      <td>single</td>\n",
       "      <td>59285</td>\n",
       "    </tr>\n",
       "    <tr>\n",
       "      <th>2</th>\n",
       "      <td>65803</td>\n",
       "      <td>Kenneth</td>\n",
       "      <td>Farley</td>\n",
       "      <td>Male</td>\n",
       "      <td>Idaho</td>\n",
       "      <td>35</td>\n",
       "      <td>1/1/2017</td>\n",
       "      <td>2</td>\n",
       "      <td>married</td>\n",
       "      <td>99568</td>\n",
       "    </tr>\n",
       "    <tr>\n",
       "      <th>3</th>\n",
       "      <td>125935</td>\n",
       "      <td>Michelle</td>\n",
       "      <td>Hicks</td>\n",
       "      <td>Female</td>\n",
       "      <td>Iowa</td>\n",
       "      <td>40</td>\n",
       "      <td>1/1/2017</td>\n",
       "      <td>0</td>\n",
       "      <td>single</td>\n",
       "      <td>42049</td>\n",
       "    </tr>\n",
       "    <tr>\n",
       "      <th>4</th>\n",
       "      <td>130797</td>\n",
       "      <td>Ann</td>\n",
       "      <td>Gilmore</td>\n",
       "      <td>Female</td>\n",
       "      <td>Maryland</td>\n",
       "      <td>26</td>\n",
       "      <td>1/1/2017</td>\n",
       "      <td>1</td>\n",
       "      <td>married</td>\n",
       "      <td>40374</td>\n",
       "    </tr>\n",
       "  </tbody>\n",
       "</table>\n",
       "</div>"
      ],
      "text/plain": [
       "   user_id First Name    Surnam  Gender       STATE  Age date_joined  \\\n",
       "0    26711    Deborah  Esquivel  Female    Missouri   48    1/1/2017   \n",
       "1    33890   Patricia      Hart  Female  New Mexico   36    1/1/2017   \n",
       "2    65803    Kenneth    Farley    Male       Idaho   35    1/1/2017   \n",
       "3   125935   Michelle     Hicks  Female        Iowa   40    1/1/2017   \n",
       "4   130797        Ann   Gilmore  Female    Maryland   26    1/1/2017   \n",
       "\n",
       "   n_dependants fam_status  income  \n",
       "0             3    married  165665  \n",
       "1             0     single   59285  \n",
       "2             2    married   99568  \n",
       "3             0     single   42049  \n",
       "4             1    married   40374  "
      ]
     },
     "execution_count": 3,
     "metadata": {},
     "output_type": "execute_result"
    }
   ],
   "source": [
    "\n",
    "# 1. Printing head/tail to have an overview of the dataframe\n",
    "customers.head()"
   ]
  },
  {
   "cell_type": "code",
   "execution_count": 4,
   "id": "63186c83",
   "metadata": {
    "scrolled": true
   },
   "outputs": [
    {
     "data": {
      "text/html": [
       "<div>\n",
       "<style scoped>\n",
       "    .dataframe tbody tr th:only-of-type {\n",
       "        vertical-align: middle;\n",
       "    }\n",
       "\n",
       "    .dataframe tbody tr th {\n",
       "        vertical-align: top;\n",
       "    }\n",
       "\n",
       "    .dataframe thead th {\n",
       "        text-align: right;\n",
       "    }\n",
       "</style>\n",
       "<table border=\"1\" class=\"dataframe\">\n",
       "  <thead>\n",
       "    <tr style=\"text-align: right;\">\n",
       "      <th></th>\n",
       "      <th>user_id</th>\n",
       "      <th>Age</th>\n",
       "      <th>n_dependants</th>\n",
       "      <th>income</th>\n",
       "    </tr>\n",
       "  </thead>\n",
       "  <tbody>\n",
       "    <tr>\n",
       "      <th>count</th>\n",
       "      <td>206209.000000</td>\n",
       "      <td>206209.000000</td>\n",
       "      <td>206209.000000</td>\n",
       "      <td>206209.000000</td>\n",
       "    </tr>\n",
       "    <tr>\n",
       "      <th>mean</th>\n",
       "      <td>103105.000000</td>\n",
       "      <td>49.501646</td>\n",
       "      <td>1.499823</td>\n",
       "      <td>94632.852548</td>\n",
       "    </tr>\n",
       "    <tr>\n",
       "      <th>std</th>\n",
       "      <td>59527.555167</td>\n",
       "      <td>18.480962</td>\n",
       "      <td>1.118433</td>\n",
       "      <td>42473.786988</td>\n",
       "    </tr>\n",
       "    <tr>\n",
       "      <th>min</th>\n",
       "      <td>1.000000</td>\n",
       "      <td>18.000000</td>\n",
       "      <td>0.000000</td>\n",
       "      <td>25903.000000</td>\n",
       "    </tr>\n",
       "    <tr>\n",
       "      <th>25%</th>\n",
       "      <td>51553.000000</td>\n",
       "      <td>33.000000</td>\n",
       "      <td>0.000000</td>\n",
       "      <td>59874.000000</td>\n",
       "    </tr>\n",
       "    <tr>\n",
       "      <th>50%</th>\n",
       "      <td>103105.000000</td>\n",
       "      <td>49.000000</td>\n",
       "      <td>1.000000</td>\n",
       "      <td>93547.000000</td>\n",
       "    </tr>\n",
       "    <tr>\n",
       "      <th>75%</th>\n",
       "      <td>154657.000000</td>\n",
       "      <td>66.000000</td>\n",
       "      <td>3.000000</td>\n",
       "      <td>124244.000000</td>\n",
       "    </tr>\n",
       "    <tr>\n",
       "      <th>max</th>\n",
       "      <td>206209.000000</td>\n",
       "      <td>81.000000</td>\n",
       "      <td>3.000000</td>\n",
       "      <td>593901.000000</td>\n",
       "    </tr>\n",
       "  </tbody>\n",
       "</table>\n",
       "</div>"
      ],
      "text/plain": [
       "             user_id            Age   n_dependants         income\n",
       "count  206209.000000  206209.000000  206209.000000  206209.000000\n",
       "mean   103105.000000      49.501646       1.499823   94632.852548\n",
       "std     59527.555167      18.480962       1.118433   42473.786988\n",
       "min         1.000000      18.000000       0.000000   25903.000000\n",
       "25%     51553.000000      33.000000       0.000000   59874.000000\n",
       "50%    103105.000000      49.000000       1.000000   93547.000000\n",
       "75%    154657.000000      66.000000       3.000000  124244.000000\n",
       "max    206209.000000      81.000000       3.000000  593901.000000"
      ]
     },
     "execution_count": 4,
     "metadata": {},
     "output_type": "execute_result"
    }
   ],
   "source": [
    "\n",
    "# 2. Runing descriptive analysis of dataframe\n",
    "customers.describe()"
   ]
  },
  {
   "cell_type": "code",
   "execution_count": 5,
   "id": "19515e38",
   "metadata": {},
   "outputs": [],
   "source": [
    "# results: all values seems to make sense - no indication of missing values or unexpected min, max, etc"
   ]
  },
  {
   "cell_type": "code",
   "execution_count": 6,
   "id": "2f1781bf",
   "metadata": {},
   "outputs": [
    {
     "name": "stdout",
     "output_type": "stream",
     "text": [
      "Number of unique user_id: 206209\n"
     ]
    }
   ],
   "source": [
    "\n",
    "# 3. Confirming there are no duplicated values in user_id (expected nr of unique values: 206209)\n",
    "\n",
    "unique_values = customers['user_id'].unique()\n",
    "print ('Number of unique user_id:', len(unique_values))"
   ]
  },
  {
   "cell_type": "code",
   "execution_count": 7,
   "id": "03593fcb",
   "metadata": {},
   "outputs": [],
   "source": [
    "\n",
    "# 4. Dropping 'First Name' and 'Surnam' columns (not required for analysis)\n",
    "customers = customers.drop(columns = ['First Name', 'Surnam'])"
   ]
  },
  {
   "cell_type": "code",
   "execution_count": 8,
   "id": "456849ac",
   "metadata": {},
   "outputs": [],
   "source": [
    "\n",
    "# 5. Renaming columns\n",
    "customers.rename (columns = {'Gender':'gender', 'STATE': 'state', 'Age': 'age', 'n_dependants': 'nr_dependants'}, inplace = True)"
   ]
  },
  {
   "cell_type": "code",
   "execution_count": 9,
   "id": "a96f148a",
   "metadata": {},
   "outputs": [
    {
     "name": "stdout",
     "output_type": "stream",
     "text": [
      "<class 'pandas.core.frame.DataFrame'>\n",
      "RangeIndex: 206209 entries, 0 to 206208\n",
      "Data columns (total 8 columns):\n",
      " #   Column         Non-Null Count   Dtype \n",
      "---  ------         --------------   ----- \n",
      " 0   user_id        206209 non-null  int64 \n",
      " 1   gender         206209 non-null  object\n",
      " 2   state          206209 non-null  object\n",
      " 3   age            206209 non-null  int64 \n",
      " 4   date_joined    206209 non-null  object\n",
      " 5   nr_dependants  206209 non-null  int64 \n",
      " 6   fam_status     206209 non-null  object\n",
      " 7   income         206209 non-null  int64 \n",
      "dtypes: int64(4), object(4)\n",
      "memory usage: 12.6+ MB\n"
     ]
    }
   ],
   "source": [
    "\n",
    "# 5. Checking count and data types\n",
    "customers.info()"
   ]
  },
  {
   "cell_type": "code",
   "execution_count": 10,
   "id": "209ca790",
   "metadata": {},
   "outputs": [],
   "source": [
    "# results: there are no missing values apart from first_name column\n",
    "# results: data joined will need to be changed to date. All other data types are correct"
   ]
  },
  {
   "cell_type": "code",
   "execution_count": 11,
   "id": "b594e705",
   "metadata": {},
   "outputs": [],
   "source": [
    "\n",
    "# 6. Changing column 'date_joined' data type\n",
    "customers['date_joined'] = customers['date_joined'].astype('datetime64[D]')"
   ]
  },
  {
   "cell_type": "code",
   "execution_count": 12,
   "id": "cd628601",
   "metadata": {},
   "outputs": [
    {
     "data": {
      "text/plain": [
       "dtype('<M8[ns]')"
      ]
     },
     "execution_count": 12,
     "metadata": {},
     "output_type": "execute_result"
    }
   ],
   "source": [
    "customers['date_joined'].dtype"
   ]
  },
  {
   "cell_type": "code",
   "execution_count": 13,
   "id": "95e53019",
   "metadata": {},
   "outputs": [
    {
     "name": "stdout",
     "output_type": "stream",
     "text": [
      "['Female' 'Male'] Number of unique genders: 2\n"
     ]
    }
   ],
   "source": [
    "\n",
    "# 7. Checking unique values for gender (expected Male/Female)\n",
    "unique_values = customers['gender'].unique()\n",
    "print (unique_values, 'Number of unique genders:', len(unique_values))"
   ]
  },
  {
   "cell_type": "code",
   "execution_count": 14,
   "id": "2716afbe",
   "metadata": {},
   "outputs": [
    {
     "name": "stdout",
     "output_type": "stream",
     "text": [
      "['Alabama', 'Alaska', 'Arizona', 'Arkansas', 'California', 'Colorado', 'Connecticut', 'Delaware', 'District of Columbia', 'Florida', 'Georgia', 'Hawaii', 'Idaho', 'Illinois', 'Indiana', 'Iowa', 'Kansas', 'Kentucky', 'Louisiana', 'Maine', 'Maryland', 'Massachusetts', 'Michigan', 'Minnesota', 'Mississippi', 'Missouri', 'Montana', 'Nebraska', 'Nevada', 'New Hampshire', 'New Jersey', 'New Mexico', 'New York', 'North Carolina', 'North Dakota', 'Ohio', 'Oklahoma', 'Oregon', 'Pennsylvania', 'Rhode Island', 'South Carolina', 'South Dakota', 'Tennessee', 'Texas', 'Utah', 'Vermont', 'Virginia', 'Washington', 'West Virginia', 'Wisconsin', 'Wyoming'] Number of unique states: 51\n"
     ]
    }
   ],
   "source": [
    "\n",
    "# 8. Checking unique values for state (expected 51)\n",
    "unique_values = sorted(customers['state'].unique())\n",
    "print (unique_values, 'Number of unique states:', len(unique_values))"
   ]
  },
  {
   "cell_type": "code",
   "execution_count": 15,
   "id": "f0317021",
   "metadata": {},
   "outputs": [
    {
     "name": "stdout",
     "output_type": "stream",
     "text": [
      "['married' 'single' 'living with parents and siblings' 'divorced/widowed'] Number of unique fam_status: 4\n"
     ]
    }
   ],
   "source": [
    "\n",
    "# 9. Checking unique values for fam_status\n",
    "unique_values = customers['fam_status'].unique()\n",
    "print (unique_values, 'Number of unique fam_status:', len(unique_values))"
   ]
  },
  {
   "cell_type": "code",
   "execution_count": 16,
   "id": "6f6b1318",
   "metadata": {},
   "outputs": [
    {
     "data": {
      "text/plain": [
       "user_id          0\n",
       "gender           0\n",
       "state            0\n",
       "age              0\n",
       "date_joined      0\n",
       "nr_dependants    0\n",
       "fam_status       0\n",
       "income           0\n",
       "dtype: int64"
      ]
     },
     "execution_count": 16,
     "metadata": {},
     "output_type": "execute_result"
    }
   ],
   "source": [
    "\n",
    "# 10. Identifying columns with missing values\n",
    "customers.isnull().sum()"
   ]
  },
  {
   "cell_type": "code",
   "execution_count": 17,
   "id": "06d38406",
   "metadata": {},
   "outputs": [],
   "source": [
    "# results: there are no missing values in the dataframe"
   ]
  },
  {
   "cell_type": "code",
   "execution_count": 18,
   "id": "af36c76e",
   "metadata": {},
   "outputs": [],
   "source": [
    "\n",
    "# 11. Checking for mixed-type data\n",
    "for col in customers.columns.tolist():\n",
    "    weird = (customers[[col]].applymap(type) != customers[[col]].iloc[0].apply(type)).any(axis=1)\n",
    "    if len (customers[weird]) > 0:\n",
    "        print(col)"
   ]
  },
  {
   "cell_type": "code",
   "execution_count": 19,
   "id": "d55a4226",
   "metadata": {},
   "outputs": [],
   "source": [
    "# results: there are no columns with mixed-type data"
   ]
  },
  {
   "cell_type": "markdown",
   "id": "fcd0480a",
   "metadata": {},
   "source": [
    "## 3. Combining 'customers' and 'ords_prods' dataframes"
   ]
  },
  {
   "cell_type": "code",
   "execution_count": 20,
   "id": "02c24a73",
   "metadata": {
    "scrolled": true
   },
   "outputs": [
    {
     "name": "stdout",
     "output_type": "stream",
     "text": [
      "<class 'pandas.core.frame.DataFrame'>\n",
      "Int64Index: 32404859 entries, 0 to 32404858\n",
      "Data columns (total 26 columns):\n",
      " #   Column                         Dtype   \n",
      "---  ------                         -----   \n",
      " 0   order_id                       int64   \n",
      " 1   user_id                        int64   \n",
      " 2   order_number                   int64   \n",
      " 3   orders_day_of_week             int64   \n",
      " 4   time_of_order                  int64   \n",
      " 5   days_since_prior_order         float64 \n",
      " 6   first_order_flag               bool    \n",
      " 7   product_id                     int64   \n",
      " 8   add_to_cart_order              int64   \n",
      " 9   reordered                      int64   \n",
      " 10  _merge                         category\n",
      " 11  product_name                   object  \n",
      " 12  aisle_id                       int64   \n",
      " 13  department_id                  int64   \n",
      " 14  prices                         float64 \n",
      " 15  exists                         category\n",
      " 16  price_range_loc                object  \n",
      " 17  busiest_day                    object  \n",
      " 18  busiest_days_grouped           object  \n",
      " 19  busiest_period_of_day          object  \n",
      " 20  max_order                      int64   \n",
      " 21  loyalty_flag                   object  \n",
      " 22  average_price                  float64 \n",
      " 23  spending_flag                  object  \n",
      " 24  median_days_since_prior_order  float64 \n",
      " 25  order_frequency_flag           object  \n",
      "dtypes: bool(1), category(2), float64(4), int64(11), object(8)\n",
      "memory usage: 5.9+ GB\n"
     ]
    }
   ],
   "source": [
    "\n",
    "# 1. Double checking compatibility of columns 'user_id' (expected data type: int64)\n",
    "ords_prods.info()"
   ]
  },
  {
   "cell_type": "code",
   "execution_count": 21,
   "id": "e8ee1cfb",
   "metadata": {},
   "outputs": [],
   "source": [
    "#  results: ords_prods and customers have column 'user_id' in common (both int64) --> This can be used to merge the two dataframes"
   ]
  },
  {
   "cell_type": "code",
   "execution_count": 32,
   "id": "d0706701",
   "metadata": {},
   "outputs": [],
   "source": [
    "# 2. Dropping column '_merge' and 'exists' (indicators from previous merges, not needed)\n",
    "ords_prods = ords_prods.drop (columns = ['_merge'],['exists'])\n"
   ]
  },
  {
   "cell_type": "code",
   "execution_count": 31,
   "id": "953d2d7c",
   "metadata": {
    "scrolled": true
   },
   "outputs": [
    {
     "name": "stdout",
     "output_type": "stream",
     "text": [
      "<class 'pandas.core.frame.DataFrame'>\n",
      "Int64Index: 32404859 entries, 0 to 32404858\n",
      "Data columns (total 25 columns):\n",
      " #   Column                         Dtype   \n",
      "---  ------                         -----   \n",
      " 0   order_id                       int64   \n",
      " 1   user_id                        int64   \n",
      " 2   order_number                   int64   \n",
      " 3   orders_day_of_week             int64   \n",
      " 4   time_of_order                  int64   \n",
      " 5   days_since_prior_order         float64 \n",
      " 6   first_order_flag               bool    \n",
      " 7   product_id                     int64   \n",
      " 8   add_to_cart_order              int64   \n",
      " 9   reordered                      int64   \n",
      " 10  product_name                   object  \n",
      " 11  aisle_id                       int64   \n",
      " 12  department_id                  int64   \n",
      " 13  prices                         float64 \n",
      " 14  exists                         category\n",
      " 15  price_range_loc                object  \n",
      " 16  busiest_day                    object  \n",
      " 17  busiest_days_grouped           object  \n",
      " 18  busiest_period_of_day          object  \n",
      " 19  max_order                      int64   \n",
      " 20  loyalty_flag                   object  \n",
      " 21  average_price                  float64 \n",
      " 22  spending_flag                  object  \n",
      " 23  median_days_since_prior_order  float64 \n",
      " 24  order_frequency_flag           object  \n",
      "dtypes: bool(1), category(1), float64(4), int64(11), object(8)\n",
      "memory usage: 5.9+ GB\n"
     ]
    }
   ],
   "source": [
    "ords_prods.info()"
   ]
  },
  {
   "cell_type": "code",
   "execution_count": 24,
   "id": "8a186e45",
   "metadata": {},
   "outputs": [],
   "source": [
    "\n",
    "# 2. Merging ords_prods with customers dataframe\n",
    "\n",
    "ords_prods_all = ords_prods.merge(customers, on = 'user_id', indicator = True)"
   ]
  },
  {
   "cell_type": "code",
   "execution_count": 34,
   "id": "0e3df774",
   "metadata": {},
   "outputs": [
    {
     "data": {
      "text/plain": [
       "both          32404859\n",
       "left_only            0\n",
       "right_only           0\n",
       "Name: _merge, dtype: int64"
      ]
     },
     "execution_count": 34,
     "metadata": {},
     "output_type": "execute_result"
    }
   ],
   "source": [
    "#running frequency check of _merge column\n",
    "ords_prods_all['_merge'].value_counts()"
   ]
  },
  {
   "cell_type": "code",
   "execution_count": 39,
   "id": "3c86d0bc",
   "metadata": {
    "scrolled": true
   },
   "outputs": [],
   "source": [
    "#allowing for all columns to be seen\n",
    "pd.set_option('display.max_columns', None) "
   ]
  },
  {
   "cell_type": "code",
   "execution_count": 40,
   "id": "f4235d6f",
   "metadata": {},
   "outputs": [
    {
     "data": {
      "text/html": [
       "<div>\n",
       "<style scoped>\n",
       "    .dataframe tbody tr th:only-of-type {\n",
       "        vertical-align: middle;\n",
       "    }\n",
       "\n",
       "    .dataframe tbody tr th {\n",
       "        vertical-align: top;\n",
       "    }\n",
       "\n",
       "    .dataframe thead th {\n",
       "        text-align: right;\n",
       "    }\n",
       "</style>\n",
       "<table border=\"1\" class=\"dataframe\">\n",
       "  <thead>\n",
       "    <tr style=\"text-align: right;\">\n",
       "      <th></th>\n",
       "      <th>order_id</th>\n",
       "      <th>user_id</th>\n",
       "      <th>order_number</th>\n",
       "      <th>orders_day_of_week</th>\n",
       "      <th>time_of_order</th>\n",
       "      <th>days_since_prior_order</th>\n",
       "      <th>first_order_flag</th>\n",
       "      <th>product_id</th>\n",
       "      <th>add_to_cart_order</th>\n",
       "      <th>reordered</th>\n",
       "      <th>product_name</th>\n",
       "      <th>aisle_id</th>\n",
       "      <th>department_id</th>\n",
       "      <th>prices</th>\n",
       "      <th>exists</th>\n",
       "      <th>price_range_loc</th>\n",
       "      <th>busiest_day</th>\n",
       "      <th>busiest_days_grouped</th>\n",
       "      <th>busiest_period_of_day</th>\n",
       "      <th>max_order</th>\n",
       "      <th>loyalty_flag</th>\n",
       "      <th>average_price</th>\n",
       "      <th>spending_flag</th>\n",
       "      <th>median_days_since_prior_order</th>\n",
       "      <th>order_frequency_flag</th>\n",
       "      <th>gender</th>\n",
       "      <th>state</th>\n",
       "      <th>age</th>\n",
       "      <th>date_joined</th>\n",
       "      <th>nr_dependants</th>\n",
       "      <th>fam_status</th>\n",
       "      <th>income</th>\n",
       "      <th>_merge</th>\n",
       "    </tr>\n",
       "  </thead>\n",
       "  <tbody>\n",
       "    <tr>\n",
       "      <th>0</th>\n",
       "      <td>2539329</td>\n",
       "      <td>1</td>\n",
       "      <td>1</td>\n",
       "      <td>2</td>\n",
       "      <td>8</td>\n",
       "      <td>NaN</td>\n",
       "      <td>True</td>\n",
       "      <td>196</td>\n",
       "      <td>1</td>\n",
       "      <td>0</td>\n",
       "      <td>Soda</td>\n",
       "      <td>77</td>\n",
       "      <td>7</td>\n",
       "      <td>9.0</td>\n",
       "      <td>both</td>\n",
       "      <td>Mid range product</td>\n",
       "      <td>Regularly busy</td>\n",
       "      <td>Regularly busy days</td>\n",
       "      <td>Average orders</td>\n",
       "      <td>10</td>\n",
       "      <td>New customer</td>\n",
       "      <td>4.7</td>\n",
       "      <td>Low spender</td>\n",
       "      <td>20.5</td>\n",
       "      <td>Non-frequent customer</td>\n",
       "      <td>Female</td>\n",
       "      <td>Alabama</td>\n",
       "      <td>31</td>\n",
       "      <td>2019-02-17</td>\n",
       "      <td>3</td>\n",
       "      <td>married</td>\n",
       "      <td>40423</td>\n",
       "      <td>both</td>\n",
       "    </tr>\n",
       "    <tr>\n",
       "      <th>1</th>\n",
       "      <td>2398795</td>\n",
       "      <td>1</td>\n",
       "      <td>2</td>\n",
       "      <td>3</td>\n",
       "      <td>7</td>\n",
       "      <td>15.0</td>\n",
       "      <td>False</td>\n",
       "      <td>196</td>\n",
       "      <td>1</td>\n",
       "      <td>1</td>\n",
       "      <td>Soda</td>\n",
       "      <td>77</td>\n",
       "      <td>7</td>\n",
       "      <td>9.0</td>\n",
       "      <td>both</td>\n",
       "      <td>Mid range product</td>\n",
       "      <td>Regularly busy</td>\n",
       "      <td>Slowest days</td>\n",
       "      <td>Average orders</td>\n",
       "      <td>10</td>\n",
       "      <td>New customer</td>\n",
       "      <td>4.7</td>\n",
       "      <td>Low spender</td>\n",
       "      <td>20.5</td>\n",
       "      <td>Non-frequent customer</td>\n",
       "      <td>Female</td>\n",
       "      <td>Alabama</td>\n",
       "      <td>31</td>\n",
       "      <td>2019-02-17</td>\n",
       "      <td>3</td>\n",
       "      <td>married</td>\n",
       "      <td>40423</td>\n",
       "      <td>both</td>\n",
       "    </tr>\n",
       "    <tr>\n",
       "      <th>2</th>\n",
       "      <td>473747</td>\n",
       "      <td>1</td>\n",
       "      <td>3</td>\n",
       "      <td>3</td>\n",
       "      <td>12</td>\n",
       "      <td>21.0</td>\n",
       "      <td>False</td>\n",
       "      <td>196</td>\n",
       "      <td>1</td>\n",
       "      <td>1</td>\n",
       "      <td>Soda</td>\n",
       "      <td>77</td>\n",
       "      <td>7</td>\n",
       "      <td>9.0</td>\n",
       "      <td>both</td>\n",
       "      <td>Mid range product</td>\n",
       "      <td>Regularly busy</td>\n",
       "      <td>Slowest days</td>\n",
       "      <td>Most orders</td>\n",
       "      <td>10</td>\n",
       "      <td>New customer</td>\n",
       "      <td>4.7</td>\n",
       "      <td>Low spender</td>\n",
       "      <td>20.5</td>\n",
       "      <td>Non-frequent customer</td>\n",
       "      <td>Female</td>\n",
       "      <td>Alabama</td>\n",
       "      <td>31</td>\n",
       "      <td>2019-02-17</td>\n",
       "      <td>3</td>\n",
       "      <td>married</td>\n",
       "      <td>40423</td>\n",
       "      <td>both</td>\n",
       "    </tr>\n",
       "    <tr>\n",
       "      <th>3</th>\n",
       "      <td>2254736</td>\n",
       "      <td>1</td>\n",
       "      <td>4</td>\n",
       "      <td>4</td>\n",
       "      <td>7</td>\n",
       "      <td>29.0</td>\n",
       "      <td>False</td>\n",
       "      <td>196</td>\n",
       "      <td>1</td>\n",
       "      <td>1</td>\n",
       "      <td>Soda</td>\n",
       "      <td>77</td>\n",
       "      <td>7</td>\n",
       "      <td>9.0</td>\n",
       "      <td>both</td>\n",
       "      <td>Mid range product</td>\n",
       "      <td>Least busy</td>\n",
       "      <td>Slowest days</td>\n",
       "      <td>Average orders</td>\n",
       "      <td>10</td>\n",
       "      <td>New customer</td>\n",
       "      <td>4.7</td>\n",
       "      <td>Low spender</td>\n",
       "      <td>20.5</td>\n",
       "      <td>Non-frequent customer</td>\n",
       "      <td>Female</td>\n",
       "      <td>Alabama</td>\n",
       "      <td>31</td>\n",
       "      <td>2019-02-17</td>\n",
       "      <td>3</td>\n",
       "      <td>married</td>\n",
       "      <td>40423</td>\n",
       "      <td>both</td>\n",
       "    </tr>\n",
       "    <tr>\n",
       "      <th>4</th>\n",
       "      <td>431534</td>\n",
       "      <td>1</td>\n",
       "      <td>5</td>\n",
       "      <td>4</td>\n",
       "      <td>15</td>\n",
       "      <td>28.0</td>\n",
       "      <td>False</td>\n",
       "      <td>196</td>\n",
       "      <td>1</td>\n",
       "      <td>1</td>\n",
       "      <td>Soda</td>\n",
       "      <td>77</td>\n",
       "      <td>7</td>\n",
       "      <td>9.0</td>\n",
       "      <td>both</td>\n",
       "      <td>Mid range product</td>\n",
       "      <td>Least busy</td>\n",
       "      <td>Slowest days</td>\n",
       "      <td>Most orders</td>\n",
       "      <td>10</td>\n",
       "      <td>New customer</td>\n",
       "      <td>4.7</td>\n",
       "      <td>Low spender</td>\n",
       "      <td>20.5</td>\n",
       "      <td>Non-frequent customer</td>\n",
       "      <td>Female</td>\n",
       "      <td>Alabama</td>\n",
       "      <td>31</td>\n",
       "      <td>2019-02-17</td>\n",
       "      <td>3</td>\n",
       "      <td>married</td>\n",
       "      <td>40423</td>\n",
       "      <td>both</td>\n",
       "    </tr>\n",
       "  </tbody>\n",
       "</table>\n",
       "</div>"
      ],
      "text/plain": [
       "   order_id  user_id  order_number  orders_day_of_week  time_of_order  \\\n",
       "0   2539329        1             1                   2              8   \n",
       "1   2398795        1             2                   3              7   \n",
       "2    473747        1             3                   3             12   \n",
       "3   2254736        1             4                   4              7   \n",
       "4    431534        1             5                   4             15   \n",
       "\n",
       "   days_since_prior_order  first_order_flag  product_id  add_to_cart_order  \\\n",
       "0                     NaN              True         196                  1   \n",
       "1                    15.0             False         196                  1   \n",
       "2                    21.0             False         196                  1   \n",
       "3                    29.0             False         196                  1   \n",
       "4                    28.0             False         196                  1   \n",
       "\n",
       "   reordered product_name  aisle_id  department_id  prices exists  \\\n",
       "0          0         Soda        77              7     9.0   both   \n",
       "1          1         Soda        77              7     9.0   both   \n",
       "2          1         Soda        77              7     9.0   both   \n",
       "3          1         Soda        77              7     9.0   both   \n",
       "4          1         Soda        77              7     9.0   both   \n",
       "\n",
       "     price_range_loc     busiest_day busiest_days_grouped  \\\n",
       "0  Mid range product  Regularly busy  Regularly busy days   \n",
       "1  Mid range product  Regularly busy         Slowest days   \n",
       "2  Mid range product  Regularly busy         Slowest days   \n",
       "3  Mid range product      Least busy         Slowest days   \n",
       "4  Mid range product      Least busy         Slowest days   \n",
       "\n",
       "  busiest_period_of_day  max_order  loyalty_flag  average_price spending_flag  \\\n",
       "0        Average orders         10  New customer            4.7   Low spender   \n",
       "1        Average orders         10  New customer            4.7   Low spender   \n",
       "2           Most orders         10  New customer            4.7   Low spender   \n",
       "3        Average orders         10  New customer            4.7   Low spender   \n",
       "4           Most orders         10  New customer            4.7   Low spender   \n",
       "\n",
       "   median_days_since_prior_order   order_frequency_flag  gender    state  age  \\\n",
       "0                           20.5  Non-frequent customer  Female  Alabama   31   \n",
       "1                           20.5  Non-frequent customer  Female  Alabama   31   \n",
       "2                           20.5  Non-frequent customer  Female  Alabama   31   \n",
       "3                           20.5  Non-frequent customer  Female  Alabama   31   \n",
       "4                           20.5  Non-frequent customer  Female  Alabama   31   \n",
       "\n",
       "  date_joined  nr_dependants fam_status  income _merge  \n",
       "0  2019-02-17              3    married   40423   both  \n",
       "1  2019-02-17              3    married   40423   both  \n",
       "2  2019-02-17              3    married   40423   both  \n",
       "3  2019-02-17              3    married   40423   both  \n",
       "4  2019-02-17              3    married   40423   both  "
      ]
     },
     "execution_count": 40,
     "metadata": {},
     "output_type": "execute_result"
    }
   ],
   "source": [
    "#checking output of new dataframe\n",
    "ords_prods_all.head()"
   ]
  },
  {
   "cell_type": "code",
   "execution_count": 43,
   "id": "c37737d1",
   "metadata": {},
   "outputs": [],
   "source": [
    "#reseting settings to default\n",
    "pd.reset_option('display.max_columns')"
   ]
  },
  {
   "cell_type": "markdown",
   "id": "0852847e",
   "metadata": {},
   "source": [
    "## 4. Exporting Dataframe"
   ]
  },
  {
   "cell_type": "code",
   "execution_count": 44,
   "id": "1ab6f731",
   "metadata": {},
   "outputs": [],
   "source": [
    "# Exporting 'ords_prods_all\n",
    "\n",
    "ords_prods_all.to_pickle(os.path.join(path, '02 Data', 'Prepared Data', 'ords_prods_all.pkl'))"
   ]
  }
 ],
 "metadata": {
  "kernelspec": {
   "display_name": "Python 3 (ipykernel)",
   "language": "python",
   "name": "python3"
  },
  "language_info": {
   "codemirror_mode": {
    "name": "ipython",
    "version": 3
   },
   "file_extension": ".py",
   "mimetype": "text/x-python",
   "name": "python",
   "nbconvert_exporter": "python",
   "pygments_lexer": "ipython3",
   "version": "3.11.3"
  }
 },
 "nbformat": 4,
 "nbformat_minor": 5
}
