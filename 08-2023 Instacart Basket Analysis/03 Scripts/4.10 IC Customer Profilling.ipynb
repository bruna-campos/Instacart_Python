{
 "cells": [
  {
   "cell_type": "code",
   "execution_count": 1,
   "id": "a96d757a",
   "metadata": {},
   "outputs": [],
   "source": [
    "# Import libraries\n",
    "import pandas as pd\n",
    "import numpy as np\n",
    "import os\n",
    "import matplotlib.pyplot as plt\n",
    "import seaborn as sns\n",
    "import scipy"
   ]
  },
  {
   "cell_type": "code",
   "execution_count": 2,
   "id": "07f017e3",
   "metadata": {},
   "outputs": [],
   "source": [
    "# Import dataframe\n",
    "path = r'C:\\Users\\bruna\\Career Foundry\\08-2023 Instacart Basket Analysis'\n",
    "\n",
    "ords_prods_all = pd.read_pickle(os.path.join(path, '02 Data', 'Prepared Data', 'ords_prods_all.pkl'))"
   ]
  },
  {
   "cell_type": "code",
   "execution_count": 4,
   "id": "fdac1e77",
   "metadata": {},
   "outputs": [
    {
     "data": {
      "text/html": [
       "<div>\n",
       "<style scoped>\n",
       "    .dataframe tbody tr th:only-of-type {\n",
       "        vertical-align: middle;\n",
       "    }\n",
       "\n",
       "    .dataframe tbody tr th {\n",
       "        vertical-align: top;\n",
       "    }\n",
       "\n",
       "    .dataframe thead th {\n",
       "        text-align: right;\n",
       "    }\n",
       "</style>\n",
       "<table border=\"1\" class=\"dataframe\">\n",
       "  <thead>\n",
       "    <tr style=\"text-align: right;\">\n",
       "      <th></th>\n",
       "      <th>order_id</th>\n",
       "      <th>user_id</th>\n",
       "      <th>order_number</th>\n",
       "      <th>orders_day_of_week</th>\n",
       "      <th>time_of_order</th>\n",
       "      <th>days_since_prior_order</th>\n",
       "      <th>first_order_flag</th>\n",
       "      <th>product_id</th>\n",
       "      <th>add_to_cart_order</th>\n",
       "      <th>reordered</th>\n",
       "      <th>...</th>\n",
       "      <th>median_days_since_prior_order</th>\n",
       "      <th>order_frequency_flag</th>\n",
       "      <th>gender</th>\n",
       "      <th>state</th>\n",
       "      <th>age</th>\n",
       "      <th>date_joined</th>\n",
       "      <th>nr_dependants</th>\n",
       "      <th>fam_status</th>\n",
       "      <th>income</th>\n",
       "      <th>_merge</th>\n",
       "    </tr>\n",
       "  </thead>\n",
       "  <tbody>\n",
       "    <tr>\n",
       "      <th>0</th>\n",
       "      <td>2539329</td>\n",
       "      <td>1</td>\n",
       "      <td>1</td>\n",
       "      <td>2</td>\n",
       "      <td>8</td>\n",
       "      <td>NaN</td>\n",
       "      <td>True</td>\n",
       "      <td>196</td>\n",
       "      <td>1</td>\n",
       "      <td>0</td>\n",
       "      <td>...</td>\n",
       "      <td>20.5</td>\n",
       "      <td>Non-frequent customer</td>\n",
       "      <td>Female</td>\n",
       "      <td>Alabama</td>\n",
       "      <td>31</td>\n",
       "      <td>2019-02-17</td>\n",
       "      <td>3</td>\n",
       "      <td>married</td>\n",
       "      <td>40423</td>\n",
       "      <td>both</td>\n",
       "    </tr>\n",
       "    <tr>\n",
       "      <th>1</th>\n",
       "      <td>2398795</td>\n",
       "      <td>1</td>\n",
       "      <td>2</td>\n",
       "      <td>3</td>\n",
       "      <td>7</td>\n",
       "      <td>15.0</td>\n",
       "      <td>False</td>\n",
       "      <td>196</td>\n",
       "      <td>1</td>\n",
       "      <td>1</td>\n",
       "      <td>...</td>\n",
       "      <td>20.5</td>\n",
       "      <td>Non-frequent customer</td>\n",
       "      <td>Female</td>\n",
       "      <td>Alabama</td>\n",
       "      <td>31</td>\n",
       "      <td>2019-02-17</td>\n",
       "      <td>3</td>\n",
       "      <td>married</td>\n",
       "      <td>40423</td>\n",
       "      <td>both</td>\n",
       "    </tr>\n",
       "    <tr>\n",
       "      <th>2</th>\n",
       "      <td>473747</td>\n",
       "      <td>1</td>\n",
       "      <td>3</td>\n",
       "      <td>3</td>\n",
       "      <td>12</td>\n",
       "      <td>21.0</td>\n",
       "      <td>False</td>\n",
       "      <td>196</td>\n",
       "      <td>1</td>\n",
       "      <td>1</td>\n",
       "      <td>...</td>\n",
       "      <td>20.5</td>\n",
       "      <td>Non-frequent customer</td>\n",
       "      <td>Female</td>\n",
       "      <td>Alabama</td>\n",
       "      <td>31</td>\n",
       "      <td>2019-02-17</td>\n",
       "      <td>3</td>\n",
       "      <td>married</td>\n",
       "      <td>40423</td>\n",
       "      <td>both</td>\n",
       "    </tr>\n",
       "    <tr>\n",
       "      <th>3</th>\n",
       "      <td>2254736</td>\n",
       "      <td>1</td>\n",
       "      <td>4</td>\n",
       "      <td>4</td>\n",
       "      <td>7</td>\n",
       "      <td>29.0</td>\n",
       "      <td>False</td>\n",
       "      <td>196</td>\n",
       "      <td>1</td>\n",
       "      <td>1</td>\n",
       "      <td>...</td>\n",
       "      <td>20.5</td>\n",
       "      <td>Non-frequent customer</td>\n",
       "      <td>Female</td>\n",
       "      <td>Alabama</td>\n",
       "      <td>31</td>\n",
       "      <td>2019-02-17</td>\n",
       "      <td>3</td>\n",
       "      <td>married</td>\n",
       "      <td>40423</td>\n",
       "      <td>both</td>\n",
       "    </tr>\n",
       "    <tr>\n",
       "      <th>4</th>\n",
       "      <td>431534</td>\n",
       "      <td>1</td>\n",
       "      <td>5</td>\n",
       "      <td>4</td>\n",
       "      <td>15</td>\n",
       "      <td>28.0</td>\n",
       "      <td>False</td>\n",
       "      <td>196</td>\n",
       "      <td>1</td>\n",
       "      <td>1</td>\n",
       "      <td>...</td>\n",
       "      <td>20.5</td>\n",
       "      <td>Non-frequent customer</td>\n",
       "      <td>Female</td>\n",
       "      <td>Alabama</td>\n",
       "      <td>31</td>\n",
       "      <td>2019-02-17</td>\n",
       "      <td>3</td>\n",
       "      <td>married</td>\n",
       "      <td>40423</td>\n",
       "      <td>both</td>\n",
       "    </tr>\n",
       "  </tbody>\n",
       "</table>\n",
       "<p>5 rows × 33 columns</p>\n",
       "</div>"
      ],
      "text/plain": [
       "   order_id  user_id  order_number  orders_day_of_week  time_of_order  \\\n",
       "0   2539329        1             1                   2              8   \n",
       "1   2398795        1             2                   3              7   \n",
       "2    473747        1             3                   3             12   \n",
       "3   2254736        1             4                   4              7   \n",
       "4    431534        1             5                   4             15   \n",
       "\n",
       "   days_since_prior_order  first_order_flag  product_id  add_to_cart_order  \\\n",
       "0                     NaN              True         196                  1   \n",
       "1                    15.0             False         196                  1   \n",
       "2                    21.0             False         196                  1   \n",
       "3                    29.0             False         196                  1   \n",
       "4                    28.0             False         196                  1   \n",
       "\n",
       "   reordered  ... median_days_since_prior_order   order_frequency_flag  \\\n",
       "0          0  ...                          20.5  Non-frequent customer   \n",
       "1          1  ...                          20.5  Non-frequent customer   \n",
       "2          1  ...                          20.5  Non-frequent customer   \n",
       "3          1  ...                          20.5  Non-frequent customer   \n",
       "4          1  ...                          20.5  Non-frequent customer   \n",
       "\n",
       "   gender    state age date_joined nr_dependants fam_status income  _merge  \n",
       "0  Female  Alabama  31  2019-02-17             3    married  40423    both  \n",
       "1  Female  Alabama  31  2019-02-17             3    married  40423    both  \n",
       "2  Female  Alabama  31  2019-02-17             3    married  40423    both  \n",
       "3  Female  Alabama  31  2019-02-17             3    married  40423    both  \n",
       "4  Female  Alabama  31  2019-02-17             3    married  40423    both  \n",
       "\n",
       "[5 rows x 33 columns]"
      ]
     },
     "execution_count": 4,
     "metadata": {},
     "output_type": "execute_result"
    }
   ],
   "source": [
    "ords_prods_all.head()"
   ]
  },
  {
   "cell_type": "markdown",
   "id": "2b87c208",
   "metadata": {},
   "source": [
    "## 1. Analysis of spending habits"
   ]
  },
  {
   "cell_type": "markdown",
   "id": "f39d5a0c",
   "metadata": {},
   "source": [
    "### 1.1 Creating a new column with US Region"
   ]
  },
  {
   "cell_type": "code",
   "execution_count": 5,
   "id": "50e616db",
   "metadata": {},
   "outputs": [],
   "source": [
    "#Creating a column with US Region\n",
    "result = []\n",
    "for value in ords_prods_all ['state']:\n",
    "    if value in ['Maine', 'New Hampshire', 'Vermont', 'Massachusetts', 'Rhode Island', 'Connecticut', 'New York', 'Pennsylvania', 'New Jersey']:\n",
    "        result.append('Northeast')\n",
    "    if value in ['Wisconsin', 'Michigan', 'Illinois', 'Indiana', 'Ohio', 'North Dakota', 'South Dakota', 'Nebraska', 'Kansas', 'Minnesota', 'Iowa', 'Missouri']:\n",
    "        result.append('Midwest')\n",
    "    if value in ['Delaware', 'Maryland', 'District of Columbia', 'Virginia', 'West Virginia', 'North Carolina', 'South Carolina', 'Georgia', 'Florida', 'Kentucky', 'Tennessee', 'Mississippi', 'Alabama', 'Oklahoma', 'Texas', 'Arkansas', 'Louisiana']:\n",
    "        result.append('South')\n",
    "    if value in ['Idaho', 'Montana', 'Wyoming', 'Nevada', 'Utah', 'Colorado', 'Arizona', 'New Mexico', 'Alaska', 'Washington', 'Oregon', 'California', 'Hawaii']:\n",
    "        result.append('West')\n",
    "\n",
    "ords_prods_all['region'] = result"
   ]
  },
  {
   "cell_type": "code",
   "execution_count": 6,
   "id": "0015b313",
   "metadata": {},
   "outputs": [
    {
     "data": {
      "text/html": [
       "<div>\n",
       "<style scoped>\n",
       "    .dataframe tbody tr th:only-of-type {\n",
       "        vertical-align: middle;\n",
       "    }\n",
       "\n",
       "    .dataframe tbody tr th {\n",
       "        vertical-align: top;\n",
       "    }\n",
       "\n",
       "    .dataframe thead th {\n",
       "        text-align: right;\n",
       "    }\n",
       "</style>\n",
       "<table border=\"1\" class=\"dataframe\">\n",
       "  <thead>\n",
       "    <tr style=\"text-align: right;\">\n",
       "      <th></th>\n",
       "      <th>order_id</th>\n",
       "      <th>user_id</th>\n",
       "      <th>order_number</th>\n",
       "      <th>orders_day_of_week</th>\n",
       "      <th>time_of_order</th>\n",
       "      <th>days_since_prior_order</th>\n",
       "      <th>first_order_flag</th>\n",
       "      <th>product_id</th>\n",
       "      <th>add_to_cart_order</th>\n",
       "      <th>reordered</th>\n",
       "      <th>...</th>\n",
       "      <th>order_frequency_flag</th>\n",
       "      <th>gender</th>\n",
       "      <th>state</th>\n",
       "      <th>age</th>\n",
       "      <th>date_joined</th>\n",
       "      <th>nr_dependants</th>\n",
       "      <th>fam_status</th>\n",
       "      <th>income</th>\n",
       "      <th>_merge</th>\n",
       "      <th>region</th>\n",
       "    </tr>\n",
       "  </thead>\n",
       "  <tbody>\n",
       "    <tr>\n",
       "      <th>0</th>\n",
       "      <td>2539329</td>\n",
       "      <td>1</td>\n",
       "      <td>1</td>\n",
       "      <td>2</td>\n",
       "      <td>8</td>\n",
       "      <td>NaN</td>\n",
       "      <td>True</td>\n",
       "      <td>196</td>\n",
       "      <td>1</td>\n",
       "      <td>0</td>\n",
       "      <td>...</td>\n",
       "      <td>Non-frequent customer</td>\n",
       "      <td>Female</td>\n",
       "      <td>Alabama</td>\n",
       "      <td>31</td>\n",
       "      <td>2019-02-17</td>\n",
       "      <td>3</td>\n",
       "      <td>married</td>\n",
       "      <td>40423</td>\n",
       "      <td>both</td>\n",
       "      <td>South</td>\n",
       "    </tr>\n",
       "    <tr>\n",
       "      <th>1</th>\n",
       "      <td>2398795</td>\n",
       "      <td>1</td>\n",
       "      <td>2</td>\n",
       "      <td>3</td>\n",
       "      <td>7</td>\n",
       "      <td>15.0</td>\n",
       "      <td>False</td>\n",
       "      <td>196</td>\n",
       "      <td>1</td>\n",
       "      <td>1</td>\n",
       "      <td>...</td>\n",
       "      <td>Non-frequent customer</td>\n",
       "      <td>Female</td>\n",
       "      <td>Alabama</td>\n",
       "      <td>31</td>\n",
       "      <td>2019-02-17</td>\n",
       "      <td>3</td>\n",
       "      <td>married</td>\n",
       "      <td>40423</td>\n",
       "      <td>both</td>\n",
       "      <td>South</td>\n",
       "    </tr>\n",
       "    <tr>\n",
       "      <th>2</th>\n",
       "      <td>473747</td>\n",
       "      <td>1</td>\n",
       "      <td>3</td>\n",
       "      <td>3</td>\n",
       "      <td>12</td>\n",
       "      <td>21.0</td>\n",
       "      <td>False</td>\n",
       "      <td>196</td>\n",
       "      <td>1</td>\n",
       "      <td>1</td>\n",
       "      <td>...</td>\n",
       "      <td>Non-frequent customer</td>\n",
       "      <td>Female</td>\n",
       "      <td>Alabama</td>\n",
       "      <td>31</td>\n",
       "      <td>2019-02-17</td>\n",
       "      <td>3</td>\n",
       "      <td>married</td>\n",
       "      <td>40423</td>\n",
       "      <td>both</td>\n",
       "      <td>South</td>\n",
       "    </tr>\n",
       "    <tr>\n",
       "      <th>3</th>\n",
       "      <td>2254736</td>\n",
       "      <td>1</td>\n",
       "      <td>4</td>\n",
       "      <td>4</td>\n",
       "      <td>7</td>\n",
       "      <td>29.0</td>\n",
       "      <td>False</td>\n",
       "      <td>196</td>\n",
       "      <td>1</td>\n",
       "      <td>1</td>\n",
       "      <td>...</td>\n",
       "      <td>Non-frequent customer</td>\n",
       "      <td>Female</td>\n",
       "      <td>Alabama</td>\n",
       "      <td>31</td>\n",
       "      <td>2019-02-17</td>\n",
       "      <td>3</td>\n",
       "      <td>married</td>\n",
       "      <td>40423</td>\n",
       "      <td>both</td>\n",
       "      <td>South</td>\n",
       "    </tr>\n",
       "    <tr>\n",
       "      <th>4</th>\n",
       "      <td>431534</td>\n",
       "      <td>1</td>\n",
       "      <td>5</td>\n",
       "      <td>4</td>\n",
       "      <td>15</td>\n",
       "      <td>28.0</td>\n",
       "      <td>False</td>\n",
       "      <td>196</td>\n",
       "      <td>1</td>\n",
       "      <td>1</td>\n",
       "      <td>...</td>\n",
       "      <td>Non-frequent customer</td>\n",
       "      <td>Female</td>\n",
       "      <td>Alabama</td>\n",
       "      <td>31</td>\n",
       "      <td>2019-02-17</td>\n",
       "      <td>3</td>\n",
       "      <td>married</td>\n",
       "      <td>40423</td>\n",
       "      <td>both</td>\n",
       "      <td>South</td>\n",
       "    </tr>\n",
       "  </tbody>\n",
       "</table>\n",
       "<p>5 rows × 34 columns</p>\n",
       "</div>"
      ],
      "text/plain": [
       "   order_id  user_id  order_number  orders_day_of_week  time_of_order  \\\n",
       "0   2539329        1             1                   2              8   \n",
       "1   2398795        1             2                   3              7   \n",
       "2    473747        1             3                   3             12   \n",
       "3   2254736        1             4                   4              7   \n",
       "4    431534        1             5                   4             15   \n",
       "\n",
       "   days_since_prior_order  first_order_flag  product_id  add_to_cart_order  \\\n",
       "0                     NaN              True         196                  1   \n",
       "1                    15.0             False         196                  1   \n",
       "2                    21.0             False         196                  1   \n",
       "3                    29.0             False         196                  1   \n",
       "4                    28.0             False         196                  1   \n",
       "\n",
       "   reordered  ...   order_frequency_flag  gender    state  age date_joined  \\\n",
       "0          0  ...  Non-frequent customer  Female  Alabama   31  2019-02-17   \n",
       "1          1  ...  Non-frequent customer  Female  Alabama   31  2019-02-17   \n",
       "2          1  ...  Non-frequent customer  Female  Alabama   31  2019-02-17   \n",
       "3          1  ...  Non-frequent customer  Female  Alabama   31  2019-02-17   \n",
       "4          1  ...  Non-frequent customer  Female  Alabama   31  2019-02-17   \n",
       "\n",
       "  nr_dependants fam_status income _merge  region  \n",
       "0             3    married  40423   both   South  \n",
       "1             3    married  40423   both   South  \n",
       "2             3    married  40423   both   South  \n",
       "3             3    married  40423   both   South  \n",
       "4             3    married  40423   both   South  \n",
       "\n",
       "[5 rows x 34 columns]"
      ]
     },
     "execution_count": 6,
     "metadata": {},
     "output_type": "execute_result"
    }
   ],
   "source": [
    "#Viewing results\n",
    "ords_prods_all.head()"
   ]
  },
  {
   "cell_type": "code",
   "execution_count": 7,
   "id": "eda2dcdb",
   "metadata": {},
   "outputs": [
    {
     "data": {
      "text/plain": [
       "South        10791885\n",
       "West          8292913\n",
       "Midwest       7597325\n",
       "Northeast     5722736\n",
       "Name: region, dtype: int64"
      ]
     },
     "execution_count": 7,
     "metadata": {},
     "output_type": "execute_result"
    }
   ],
   "source": [
    "#Running value.counts to confirm accuracy\n",
    "ords_prods_all['region'].value_counts(dropna = False) #no NaN values"
   ]
  },
  {
   "cell_type": "code",
   "execution_count": 8,
   "id": "5e64acb4",
   "metadata": {},
   "outputs": [
    {
     "data": {
      "text/plain": [
       "(32404859,)"
      ]
     },
     "execution_count": 8,
     "metadata": {},
     "output_type": "execute_result"
    }
   ],
   "source": [
    "ords_prods_all['region'].shape #total number of rows matching expected result"
   ]
  },
  {
   "cell_type": "markdown",
   "id": "e78ef638",
   "metadata": {},
   "source": [
    "### 1.2. Analysing the spending habits per US region"
   ]
  },
  {
   "cell_type": "code",
   "execution_count": 9,
   "id": "9b4b9dbc",
   "metadata": {},
   "outputs": [],
   "source": [
    "#Exporting a copy of ords_prods_all to visualise in excel\n",
    "head = ords_prods_all.head(100)\n",
    "head.to_clipboard()"
   ]
  },
  {
   "cell_type": "code",
   "execution_count": 10,
   "id": "92238169",
   "metadata": {},
   "outputs": [],
   "source": [
    "#Creating a crosstab between the spending flag and the region columns, to assess spending habits per region\n",
    "crosstab = pd.crosstab(ords_prods_all['region'], ords_prods_all['spending_flag'], dropna = False)"
   ]
  },
  {
   "cell_type": "code",
   "execution_count": 11,
   "id": "397841c2",
   "metadata": {},
   "outputs": [],
   "source": [
    "crosstab.to_clipboard()"
   ]
  },
  {
   "cell_type": "markdown",
   "id": "968db8f8",
   "metadata": {},
   "source": [
    "There is no difference in spending habits between regions. All 4 regions have 1.7 to 1.8% of high spenders vs 98.2 to 98.3% of low spenders"
   ]
  },
  {
   "cell_type": "markdown",
   "id": "e0b67232",
   "metadata": {},
   "source": [
    "## 2. Excluding low-activity customers"
   ]
  },
  {
   "cell_type": "code",
   "execution_count": 12,
   "id": "6bd95962",
   "metadata": {},
   "outputs": [],
   "source": [
    "#Creating a exclusion flag for low-activity customers (less than 5 orders)\n",
    "ords_prods_all.loc[ords_prods_all['max_order']<5, 'cust_activity_flag'] = 'Low activity customer'\n",
    "ords_prods_all.loc[ords_prods_all['max_order']>=5, 'cust_activity_flag'] = 'High activity customer'"
   ]
  },
  {
   "cell_type": "code",
   "execution_count": 13,
   "id": "a3f05072",
   "metadata": {},
   "outputs": [
    {
     "data": {
      "text/plain": [
       "High activity customer    30964564\n",
       "Low activity customer      1440295\n",
       "Name: cust_activity_flag, dtype: int64"
      ]
     },
     "execution_count": 13,
     "metadata": {},
     "output_type": "execute_result"
    }
   ],
   "source": [
    "#running value.counts to confirm accuracy\n",
    "ords_prods_all['cust_activity_flag'].value_counts(dropna = False)"
   ]
  },
  {
   "cell_type": "code",
   "execution_count": 14,
   "id": "16231283",
   "metadata": {},
   "outputs": [
    {
     "data": {
      "text/plain": [
       "(32404859,)"
      ]
     },
     "execution_count": 14,
     "metadata": {},
     "output_type": "execute_result"
    }
   ],
   "source": [
    "ords_prods_all['cust_activity_flag'].shape"
   ]
  },
  {
   "cell_type": "code",
   "execution_count": 15,
   "id": "673f3533",
   "metadata": {},
   "outputs": [],
   "source": [
    "#creating high activity only dataframe\n",
    "ords_prods_high_act_cust = ords_prods_all[ords_prods_all['cust_activity_flag'] == 'High activity customer']"
   ]
  },
  {
   "cell_type": "code",
   "execution_count": 16,
   "id": "bc2705b6",
   "metadata": {},
   "outputs": [],
   "source": [
    "#exporting dataframe\n",
    "ords_prods_high_act_cust.to_pickle(os.path.join(path, '02 Data', 'Prepared Data', 'ords_prods_high_act_cust.pkl'))"
   ]
  },
  {
   "cell_type": "code",
   "execution_count": 33,
   "id": "4a789f39",
   "metadata": {},
   "outputs": [
    {
     "data": {
      "text/plain": [
       "162631"
      ]
     },
     "execution_count": 33,
     "metadata": {},
     "output_type": "execute_result"
    }
   ],
   "source": [
    "#counting new number of customers (previously 206209) \n",
    "ords_prods_high_act_cust['user_id'].nunique()"
   ]
  },
  {
   "cell_type": "markdown",
   "id": "98df8aee",
   "metadata": {},
   "source": [
    "## 3. Customer profiling "
   ]
  },
  {
   "cell_type": "markdown",
   "id": "00618f1d",
   "metadata": {},
   "source": [
    "### 3.1 Demografic profiling - Age"
   ]
  },
  {
   "cell_type": "code",
   "execution_count": 17,
   "id": "e3e420d0",
   "metadata": {},
   "outputs": [
    {
     "data": {
      "text/plain": [
       "count    3.096456e+07\n",
       "mean     4.946803e+01\n",
       "std      1.848528e+01\n",
       "min      1.800000e+01\n",
       "25%      3.300000e+01\n",
       "50%      4.900000e+01\n",
       "75%      6.500000e+01\n",
       "max      8.100000e+01\n",
       "Name: age, dtype: float64"
      ]
     },
     "execution_count": 17,
     "metadata": {},
     "output_type": "execute_result"
    }
   ],
   "source": [
    "#visualising age column data\n",
    "ords_prods_high_act_cust['age'].describe()"
   ]
  },
  {
   "cell_type": "markdown",
   "id": "5f8b17c6",
   "metadata": {},
   "source": [
    "Age labels: 'Young' <=35; 'Middle-aged' >35&<=65, 'Senior' >65"
   ]
  },
  {
   "cell_type": "code",
   "execution_count": 18,
   "id": "1f4ba61c",
   "metadata": {},
   "outputs": [],
   "source": [
    "#adding column to dataframe with flag to the database with high activity customers only\n",
    "result = []\n",
    "for value in ords_prods_high_act_cust ['age']:\n",
    "    if value <= 35:\n",
    "        result.append('Young')\n",
    "    if value >35 and value <= 65:\n",
    "        result.append('Middle aged')\n",
    "    if value >65:\n",
    "        result.append('Senior')"
   ]
  },
  {
   "cell_type": "code",
   "execution_count": 19,
   "id": "8934dd78",
   "metadata": {},
   "outputs": [
    {
     "name": "stderr",
     "output_type": "stream",
     "text": [
      "C:\\Users\\bruna\\AppData\\Local\\Temp\\ipykernel_26680\\2840470786.py:2: SettingWithCopyWarning: \n",
      "A value is trying to be set on a copy of a slice from a DataFrame.\n",
      "Try using .loc[row_indexer,col_indexer] = value instead\n",
      "\n",
      "See the caveats in the documentation: https://pandas.pydata.org/pandas-docs/stable/user_guide/indexing.html#returning-a-view-versus-a-copy\n",
      "  ords_prods_high_act_cust['age_flag'] = result\n"
     ]
    }
   ],
   "source": [
    "#adding column to dataframe with flag to database with high activity customers only\n",
    "ords_prods_high_act_cust['age_flag'] = result"
   ]
  },
  {
   "cell_type": "code",
   "execution_count": 20,
   "id": "7b1c739b",
   "metadata": {},
   "outputs": [
    {
     "data": {
      "text/plain": [
       "Middle aged    14494925\n",
       "Young           8738805\n",
       "Senior          7730834\n",
       "Name: age_flag, dtype: int64"
      ]
     },
     "execution_count": 20,
     "metadata": {},
     "output_type": "execute_result"
    }
   ],
   "source": [
    "#running value count and max to confirm if results make sense\n",
    "ords_prods_high_act_cust['age_flag'].value_counts(dropna = False)"
   ]
  },
  {
   "cell_type": "code",
   "execution_count": 25,
   "id": "18944634",
   "metadata": {},
   "outputs": [
    {
     "data": {
      "image/png": "[encoded data removed]",
      "text/plain": [
       "<Figure size 640x480 with 1 Axes>"
      ]
     },
     "metadata": {},
     "output_type": "display_data"
    }
   ],
   "source": [
    "# Group by 'user_id' and get unique ages\n",
    "age_counts_per_user = ords_prods_high_act_cust.groupby('user_id')['age_flag'].unique().value_counts()\n",
    "\n",
    "# Plot the pie chart\n",
    "age_pie = age_counts_per_user.plot.pie(startangle=90,\n",
    "                                       autopct='%1.1f%%',\n",
    "                                       colors=['#419197', '#F5FCCD', '#12486B'],\n",
    "                                       labeldistance=None,\n",
    "                                       wedgeprops={'edgecolor': 'black', 'linewidth': 0.5})\n",
    "\n",
    "age_pie.texts[2].set_color('white')\n",
    "\n",
    "plt.legend(loc = 'center right',\n",
    "          bbox_to_anchor=(0.9, 0, 0.5, 1),\n",
    "          title = 'Age Group')\n",
    "plt.title('Age Group Distribution')\n",
    "plt.ylabel(None) \n",
    "\n",
    "plt.subplots_adjust(left=0.1, right=0.7, top=0.9, bottom=0.1)\n",
    "\n",
    "plt.show()"
   ]
  },
  {
   "cell_type": "code",
   "execution_count": 27,
   "id": "b79c18a9",
   "metadata": {},
   "outputs": [
    {
     "data": {
      "text/plain": [
       "[Middle aged]    76173\n",
       "[Young]          45689\n",
       "[Senior]         40769\n",
       "Name: age_flag, dtype: int64"
      ]
     },
     "execution_count": 27,
     "metadata": {},
     "output_type": "execute_result"
    }
   ],
   "source": [
    "# confirming number of customers. Expected: 162631; Observed: 162631\n",
    "age_counts_per_user"
   ]
  },
  {
   "cell_type": "code",
   "execution_count": 36,
   "id": "144ddc50",
   "metadata": {},
   "outputs": [],
   "source": [
    "#exporting the figure\n",
    "age_pie.figure.savefig(os.path.join(path, '04 Analysis','Visualisations', 'age_pie.png'))"
   ]
  },
  {
   "cell_type": "markdown",
   "id": "10579900",
   "metadata": {},
   "source": [
    "### 3.2 Demografic profiling - Income"
   ]
  },
  {
   "cell_type": "code",
   "execution_count": 37,
   "id": "fc1882f4",
   "metadata": {},
   "outputs": [
    {
     "data": {
      "text/plain": [
       "count    3.096456e+07\n",
       "mean     9.967587e+04\n",
       "std      4.314187e+04\n",
       "min      2.590300e+04\n",
       "25%      6.729200e+04\n",
       "50%      9.676500e+04\n",
       "75%      1.281020e+05\n",
       "max      5.939010e+05\n",
       "Name: income, dtype: float64"
      ]
     },
     "execution_count": 37,
     "metadata": {},
     "output_type": "execute_result"
    }
   ],
   "source": [
    "#visualising income column data\n",
    "ords_prods_high_act_cust['income'].describe()"
   ]
  },
  {
   "cell_type": "markdown",
   "id": "cdbb8d14",
   "metadata": {},
   "source": [
    "Income labels: 'Low income' <=67000; 'Average_income' >67000 & <=128000, 'High_income' >128000"
   ]
  },
  {
   "cell_type": "code",
   "execution_count": 38,
   "id": "4f5974bf",
   "metadata": {},
   "outputs": [],
   "source": [
    "#creating the income flag criteria\n",
    "result = []\n",
    "for value in ords_prods_high_act_cust ['income']:\n",
    "    if value <= 67000:\n",
    "        result.append('Low income')\n",
    "    if value >67000 and value <= 128000:\n",
    "        result.append('Average income')\n",
    "    if value >128000:\n",
    "        result.append('High income')"
   ]
  },
  {
   "cell_type": "code",
   "execution_count": 39,
   "id": "e7802728",
   "metadata": {},
   "outputs": [
    {
     "name": "stderr",
     "output_type": "stream",
     "text": [
      "C:\\Users\\bruna\\AppData\\Local\\Temp\\ipykernel_26680\\3897377820.py:2: SettingWithCopyWarning: \n",
      "A value is trying to be set on a copy of a slice from a DataFrame.\n",
      "Try using .loc[row_indexer,col_indexer] = value instead\n",
      "\n",
      "See the caveats in the documentation: https://pandas.pydata.org/pandas-docs/stable/user_guide/indexing.html#returning-a-view-versus-a-copy\n",
      "  ords_prods_high_act_cust['income_flag'] = result\n"
     ]
    }
   ],
   "source": [
    "#adding column to dataframe with flag\n",
    "ords_prods_high_act_cust['income_flag'] = result"
   ]
  },
  {
   "cell_type": "code",
   "execution_count": 40,
   "id": "78a3d403",
   "metadata": {},
   "outputs": [
    {
     "data": {
      "text/plain": [
       "Average income    15549969\n",
       "High income        7753117\n",
       "Low income         7661478\n",
       "Name: income_flag, dtype: int64"
      ]
     },
     "execution_count": 40,
     "metadata": {},
     "output_type": "execute_result"
    }
   ],
   "source": [
    "#running value count and max to confirm if results make sense\n",
    "ords_prods_high_act_cust['income_flag'].value_counts(dropna = False)"
   ]
  },
  {
   "cell_type": "code",
   "execution_count": 41,
   "id": "d9122eb7",
   "metadata": {},
   "outputs": [
    {
     "data": {
      "image/png": "[encoded data removed]",
      "text/plain": [
       "<Figure size 640x480 with 1 Axes>"
      ]
     },
     "metadata": {},
     "output_type": "display_data"
    }
   ],
   "source": [
    "# Group by 'user_id' and get unique incomes\n",
    "income_per_user = ords_prods_high_act_cust.groupby('user_id')['income_flag'].unique().value_counts()\n",
    "\n",
    "# Plot a pie chart for the income distribution\n",
    "income_pie = income_per_user.plot.pie(startangle = 90,\n",
    "                                        autopct='%1.1f%%',\n",
    "                                        colors = ['#419197','#12486B','#F5FCCD'],\n",
    "                                        labeldistance = None,\n",
    "                                        wedgeprops={'edgecolor':'black','linewidth':.5})\n",
    "\n",
    "\n",
    "income_pie.texts[1].set_color('white')\n",
    "\n",
    "plt.legend(loc = 'center right',\n",
    "          bbox_to_anchor=(0.9, 0, 0.5, 1),\n",
    "          title = 'Income Group')\n",
    "plt.title('Income Group Distribution')\n",
    "plt.ylabel(None) \n",
    "\n",
    "plt.subplots_adjust(left=0.1, right=0.7, top=0.9, bottom=0.1)\n",
    "\n",
    "plt.show()"
   ]
  },
  {
   "cell_type": "code",
   "execution_count": 42,
   "id": "82ea9462",
   "metadata": {},
   "outputs": [],
   "source": [
    "#exporting the figure\n",
    "income_pie.figure.savefig(os.path.join(path, '04 Analysis','Visualisations', 'income_pie.png'))"
   ]
  },
  {
   "cell_type": "markdown",
   "id": "665e0ea6",
   "metadata": {},
   "source": [
    "### 3.3 Demografic profiling - family status, nr dependants, age"
   ]
  },
  {
   "cell_type": "code",
   "execution_count": 43,
   "id": "5ad8146c",
   "metadata": {},
   "outputs": [
    {
     "data": {
      "text/plain": [
       "married                             21743711\n",
       "single                               5094410\n",
       "divorced/widowed                     2645271\n",
       "living with parents and siblings     1481172\n",
       "Name: fam_status, dtype: int64"
      ]
     },
     "execution_count": 43,
     "metadata": {},
     "output_type": "execute_result"
    }
   ],
   "source": [
    "ords_prods_high_act_cust['fam_status'].value_counts(dropna = False)"
   ]
  },
  {
   "cell_type": "markdown",
   "id": "5d011fea",
   "metadata": {},
   "source": [
    "*category, age, fam_status, nr_dependant*\n",
    "\n",
    "Young family: <35, married, >0\n",
    "\n",
    "Mature family:\t>=35, married, >0\n",
    "\n",
    "Single parental family: -, single|divorced/widowed, >0\n",
    "\n",
    "Empty nesters: >50, married , 0\n",
    "\n",
    "Childless couples: <=50, married, 0\n",
    "\n",
    "Childless singles: -, single|divorced/widowed, 0\n",
    "\n",
    "Descendant with family: -, living with parents and siblings, >0\n"
   ]
  },
  {
   "cell_type": "code",
   "execution_count": 44,
   "id": "e08c66b4",
   "metadata": {},
   "outputs": [
    {
     "name": "stderr",
     "output_type": "stream",
     "text": [
      "C:\\Users\\bruna\\AppData\\Local\\Temp\\ipykernel_26680\\577652714.py:2: SettingWithCopyWarning: \n",
      "A value is trying to be set on a copy of a slice from a DataFrame.\n",
      "Try using .loc[row_indexer,col_indexer] = value instead\n",
      "\n",
      "See the caveats in the documentation: https://pandas.pydata.org/pandas-docs/stable/user_guide/indexing.html#returning-a-view-versus-a-copy\n",
      "  ords_prods_high_act_cust.loc[(ords_prods_high_act_cust['age']<35) & (ords_prods_high_act_cust['fam_status']=='married') & (ords_prods_high_act_cust['nr_dependants']>0), 'fam_demog_flag'] = 'Young family'\n"
     ]
    }
   ],
   "source": [
    "#creating the family demografic flag criteria\n",
    "ords_prods_high_act_cust.loc[(ords_prods_high_act_cust['age']<35) & (ords_prods_high_act_cust['fam_status']=='married') & (ords_prods_high_act_cust['nr_dependants']>0), 'fam_demog_flag'] = 'Young family'\n",
    "ords_prods_high_act_cust.loc[(ords_prods_high_act_cust['age']>=35) & (ords_prods_high_act_cust['fam_status']=='married') & (ords_prods_high_act_cust['nr_dependants']>0), 'fam_demog_flag'] = 'Mature family'\n",
    "ords_prods_high_act_cust.loc[((ords_prods_high_act_cust['fam_status']=='single') | (ords_prods_high_act_cust['fam_status']=='divorced/widowed')) & (ords_prods_high_act_cust['nr_dependants']>0), 'fam_demog_flag'] = 'Single parental family'\n",
    "ords_prods_high_act_cust.loc[(ords_prods_high_act_cust['age']>50) & (ords_prods_high_act_cust['fam_status']=='married') & (ords_prods_high_act_cust['nr_dependants']==0), 'fam_demog_flag'] = 'Empty nesters'\n",
    "ords_prods_high_act_cust.loc[(ords_prods_high_act_cust['age']<=50) & (ords_prods_high_act_cust['fam_status']=='married') & (ords_prods_high_act_cust['nr_dependants']==0), 'fam_demog_flag'] = 'Childless couple'\n",
    "ords_prods_high_act_cust.loc[((ords_prods_high_act_cust['fam_status']=='single') | (ords_prods_high_act_cust['fam_status']=='divorced/widowed')) & (ords_prods_high_act_cust['nr_dependants']==0), 'fam_demog_flag'] = 'Childless single'\n",
    "ords_prods_high_act_cust.loc[(ords_prods_all['fam_status']=='living with parents and siblings') & (ords_prods_high_act_cust['nr_dependants']>0), 'fam_demog_flag'] = 'Descendant with family'"
   ]
  },
  {
   "cell_type": "code",
   "execution_count": 45,
   "id": "4916d0f7",
   "metadata": {},
   "outputs": [
    {
     "data": {
      "text/plain": [
       "Mature family             17046146\n",
       "Childless single           7739681\n",
       "Young family               4697565\n",
       "Descendant with family     1481172\n",
       "Name: fam_demog_flag, dtype: int64"
      ]
     },
     "execution_count": 45,
     "metadata": {},
     "output_type": "execute_result"
    }
   ],
   "source": [
    "#running value count and max to confirm if results make sense\n",
    "ords_prods_high_act_cust['fam_demog_flag'].value_counts(dropna = False)"
   ]
  },
  {
   "cell_type": "code",
   "execution_count": 46,
   "id": "44515430",
   "metadata": {},
   "outputs": [
    {
     "data": {
      "image/png": "[encoded data removed]",
      "text/plain": [
       "<Figure size 640x480 with 1 Axes>"
      ]
     },
     "metadata": {},
     "output_type": "display_data"
    }
   ],
   "source": [
    "# Group by 'user_id' and get unique values\n",
    "fam_demog_per_user = ords_prods_high_act_cust.groupby('user_id')['fam_demog_flag'].unique().value_counts()\n",
    "\n",
    "# Plotting a pie chart for the fam_demographic distribution\n",
    "fam_demog_pie = fam_demog_per_user.plot.pie(startangle = 90,\n",
    "                                  autopct='%1.1f%%',\n",
    "                                  colors = ['#12486B','#F5FCCD', '#419197','#78D6C6', '#053B50'],\n",
    "                                  labeldistance = None,\n",
    "                                  wedgeprops={'edgecolor':'black','linewidth':.5})\n",
    "\n",
    "\n",
    "fam_demog_pie.texts[0].set_color('white')\n",
    "\n",
    "plt.legend(loc = 'center right',\n",
    "          bbox_to_anchor=(1.1, 0, 0.5, 1),\n",
    "          title = 'Family Type')\n",
    "plt.title('Family Demographic Distribution')\n",
    "plt.ylabel(None) \n",
    "\n",
    "plt.subplots_adjust(left=0, right=0.6, top=0.9, bottom=0.1)\n",
    "\n",
    "plt.show()\n",
    "\n",
    "#exporting the figure\n",
    "fam_demog_pie.figure.savefig(os.path.join(path, '04 Analysis','Visualisations', 'fam_demog_pie.png'))"
   ]
  },
  {
   "cell_type": "markdown",
   "id": "9e63abce",
   "metadata": {},
   "source": [
    "### 3.4 Demografic profiling - location"
   ]
  },
  {
   "cell_type": "code",
   "execution_count": 47,
   "id": "794335de",
   "metadata": {},
   "outputs": [
    {
     "data": {
      "image/png": "[encoded data removed]",
      "text/plain": [
       "<Figure size 640x480 with 1 Axes>"
      ]
     },
     "metadata": {},
     "output_type": "display_data"
    }
   ],
   "source": [
    "# Group by 'user_id' and get unique values\n",
    "region_per_user = ords_prods_high_act_cust.groupby('user_id')['region'].unique().value_counts()\n",
    "\n",
    "# Plotting a pie chart for the fam_demographic distribution\n",
    "location_pie = region_per_user.plot.pie(startangle = 90,\n",
    "                                 autopct='%1.1f%%',\n",
    "                                 colors = ['#12486B','#F5FCCD', '#419197','#78D6C6', '#053B50'],\n",
    "                                 labeldistance = None,\n",
    "                                 wedgeprops={'edgecolor':'black','linewidth':.5})\n",
    "\n",
    "\n",
    "location_pie.texts[0].set_color('white')\n",
    "\n",
    "plt.legend(loc = 'center right',\n",
    "          bbox_to_anchor=(1, 0, 0.5, 1),\n",
    "          title = 'Region')\n",
    "plt.title('Regional Distribution')\n",
    "plt.ylabel(None) \n",
    "\n",
    "plt.subplots_adjust(left=0, right=0.7, top=0.85, bottom=0.1)\n",
    "\n",
    "plt.show()\n",
    "\n",
    "#exporting the figure\n",
    "location_pie.figure.savefig(os.path.join(path, '04 Analysis','Visualisations', 'location_pie.png'))"
   ]
  },
  {
   "cell_type": "code",
   "execution_count": 48,
   "id": "5f196325",
   "metadata": {},
   "outputs": [],
   "source": [
    "#exporting dataframe\n",
    "ords_prods_high_act_cust.to_pickle(os.path.join(path, '02 Data', 'Prepared Data', 'ords_prods_high_act_cust.pkl'))"
   ]
  },
  {
   "cell_type": "markdown",
   "id": "afec7fda",
   "metadata": {},
   "source": []
  }
 ],
 "metadata": {
  "kernelspec": {
   "display_name": "Python 3 (ipykernel)",
   "language": "python",
   "name": "python3"
  },
  "language_info": {
   "codemirror_mode": {
    "name": "ipython",
    "version": 3
   },
   "file_extension": ".py",
   "mimetype": "text/x-python",
   "name": "python",
   "nbconvert_exporter": "python",
   "pygments_lexer": "ipython3",
   "version": "3.11.3"
  }
 },
 "nbformat": 4,
 "nbformat_minor": 5
}
